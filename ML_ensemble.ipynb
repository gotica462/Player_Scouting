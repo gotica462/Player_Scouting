{
 "cells": [
  {
   "cell_type": "code",
   "execution_count": 1,
   "metadata": {
    "id": "erOXhn2sPvy4"
   },
   "outputs": [],
   "source": [
    "import zipfile\n",
    "%matplotlib inline \n",
    "import numpy as np \n",
    "import scipy as sp \n",
    "import matplotlib as mpl\n",
    "import matplotlib.cm as cm \n",
    "import matplotlib.pyplot as plt\n",
    "import pandas as pd \n",
    "import sklearn\n",
    "import seaborn as sns\n",
    "import os\n",
    "import warnings\n",
    "from collections import Counter\n",
    "warnings.filterwarnings('ignore')"
   ]
  },
  {
   "cell_type": "code",
   "execution_count": 2,
   "metadata": {
    "colab": {
     "base_uri": "https://localhost:8080/"
    },
    "id": "_ibmaAGLR1TM",
    "outputId": "159b25c5-5a29-4ce1-fb9c-4c67700e6b3d"
   },
   "outputs": [
    {
     "name": "stdout",
     "output_type": "stream",
     "text": [
      "Requirement already satisfied: imblearn in c:\\users\\gotar\\anaconda3\\lib\\site-packages (0.0)\n",
      "Requirement already satisfied: imbalanced-learn in c:\\users\\gotar\\anaconda3\\lib\\site-packages (from imblearn) (0.9.1)\n",
      "Requirement already satisfied: joblib>=1.0.0 in c:\\users\\gotar\\anaconda3\\lib\\site-packages (from imbalanced-learn->imblearn) (1.1.0)\n",
      "Requirement already satisfied: scikit-learn>=1.1.0 in c:\\users\\gotar\\anaconda3\\lib\\site-packages (from imbalanced-learn->imblearn) (1.1.1)\n",
      "Requirement already satisfied: numpy>=1.17.3 in c:\\users\\gotar\\anaconda3\\lib\\site-packages (from imbalanced-learn->imblearn) (1.20.3)\n",
      "Requirement already satisfied: threadpoolctl>=2.0.0 in c:\\users\\gotar\\anaconda3\\lib\\site-packages (from imbalanced-learn->imblearn) (2.2.0)\n",
      "Requirement already satisfied: scipy>=1.3.2 in c:\\users\\gotar\\anaconda3\\lib\\site-packages (from imbalanced-learn->imblearn) (1.7.1)\n",
      "Note: you may need to restart the kernel to use updated packages.\n"
     ]
    }
   ],
   "source": [
    "pip install imblearn"
   ]
  },
  {
   "cell_type": "code",
   "execution_count": 3,
   "metadata": {
    "id": "NpjvT1WfRi6M"
   },
   "outputs": [],
   "source": [
    "from sklearn.metrics import balanced_accuracy_score\n",
    "from sklearn.metrics import confusion_matrix\n",
    "from imblearn.metrics import classification_report_imbalanced"
   ]
  },
  {
   "cell_type": "code",
   "execution_count": 4,
   "metadata": {},
   "outputs": [],
   "source": [
    "# Establish our path\n",
    "events = os.path.join(\"Resources\", \"events.csv\")"
   ]
  },
  {
   "cell_type": "code",
   "execution_count": 6,
   "metadata": {
    "colab": {
     "base_uri": "https://localhost:8080/",
     "height": 699
    },
    "id": "04S4YO4eP2Z0",
    "outputId": "fb613af0-adc0-4ca6-93a6-741548cc4531"
   },
   "outputs": [
    {
     "data": {
      "text/html": [
       "<div>\n",
       "<style scoped>\n",
       "    .dataframe tbody tr th:only-of-type {\n",
       "        vertical-align: middle;\n",
       "    }\n",
       "\n",
       "    .dataframe tbody tr th {\n",
       "        vertical-align: top;\n",
       "    }\n",
       "\n",
       "    .dataframe thead th {\n",
       "        text-align: right;\n",
       "    }\n",
       "</style>\n",
       "<table border=\"1\" class=\"dataframe\">\n",
       "  <thead>\n",
       "    <tr style=\"text-align: right;\">\n",
       "      <th></th>\n",
       "      <th>id_odsp</th>\n",
       "      <th>id_event</th>\n",
       "      <th>sort_order</th>\n",
       "      <th>time</th>\n",
       "      <th>text</th>\n",
       "      <th>event_type</th>\n",
       "      <th>event_type2</th>\n",
       "      <th>side</th>\n",
       "      <th>event_team</th>\n",
       "      <th>opponent</th>\n",
       "      <th>...</th>\n",
       "      <th>player_in</th>\n",
       "      <th>player_out</th>\n",
       "      <th>shot_place</th>\n",
       "      <th>shot_outcome</th>\n",
       "      <th>is_goal</th>\n",
       "      <th>location</th>\n",
       "      <th>bodypart</th>\n",
       "      <th>assist_method</th>\n",
       "      <th>situation</th>\n",
       "      <th>fast_break</th>\n",
       "    </tr>\n",
       "  </thead>\n",
       "  <tbody>\n",
       "    <tr>\n",
       "      <th>0</th>\n",
       "      <td>UFot0hit/</td>\n",
       "      <td>UFot0hit1</td>\n",
       "      <td>1</td>\n",
       "      <td>2</td>\n",
       "      <td>Attempt missed. Mladen Petric (Hamburg) left f...</td>\n",
       "      <td>1</td>\n",
       "      <td>12.0</td>\n",
       "      <td>2</td>\n",
       "      <td>Hamburg SV</td>\n",
       "      <td>Borussia Dortmund</td>\n",
       "      <td>...</td>\n",
       "      <td>NaN</td>\n",
       "      <td>NaN</td>\n",
       "      <td>6.0</td>\n",
       "      <td>2.0</td>\n",
       "      <td>0</td>\n",
       "      <td>9.0</td>\n",
       "      <td>2.0</td>\n",
       "      <td>1</td>\n",
       "      <td>1.0</td>\n",
       "      <td>0</td>\n",
       "    </tr>\n",
       "    <tr>\n",
       "      <th>1</th>\n",
       "      <td>UFot0hit/</td>\n",
       "      <td>UFot0hit2</td>\n",
       "      <td>2</td>\n",
       "      <td>4</td>\n",
       "      <td>Corner,  Borussia Dortmund. Conceded by Dennis...</td>\n",
       "      <td>2</td>\n",
       "      <td>NaN</td>\n",
       "      <td>1</td>\n",
       "      <td>Borussia Dortmund</td>\n",
       "      <td>Hamburg SV</td>\n",
       "      <td>...</td>\n",
       "      <td>NaN</td>\n",
       "      <td>NaN</td>\n",
       "      <td>NaN</td>\n",
       "      <td>NaN</td>\n",
       "      <td>0</td>\n",
       "      <td>NaN</td>\n",
       "      <td>NaN</td>\n",
       "      <td>0</td>\n",
       "      <td>NaN</td>\n",
       "      <td>0</td>\n",
       "    </tr>\n",
       "    <tr>\n",
       "      <th>2</th>\n",
       "      <td>UFot0hit/</td>\n",
       "      <td>UFot0hit3</td>\n",
       "      <td>3</td>\n",
       "      <td>4</td>\n",
       "      <td>Corner,  Borussia Dortmund. Conceded by Heiko ...</td>\n",
       "      <td>2</td>\n",
       "      <td>NaN</td>\n",
       "      <td>1</td>\n",
       "      <td>Borussia Dortmund</td>\n",
       "      <td>Hamburg SV</td>\n",
       "      <td>...</td>\n",
       "      <td>NaN</td>\n",
       "      <td>NaN</td>\n",
       "      <td>NaN</td>\n",
       "      <td>NaN</td>\n",
       "      <td>0</td>\n",
       "      <td>NaN</td>\n",
       "      <td>NaN</td>\n",
       "      <td>0</td>\n",
       "      <td>NaN</td>\n",
       "      <td>0</td>\n",
       "    </tr>\n",
       "    <tr>\n",
       "      <th>3</th>\n",
       "      <td>UFot0hit/</td>\n",
       "      <td>UFot0hit4</td>\n",
       "      <td>4</td>\n",
       "      <td>7</td>\n",
       "      <td>Foul by Sven Bender (Borussia Dortmund).</td>\n",
       "      <td>3</td>\n",
       "      <td>NaN</td>\n",
       "      <td>1</td>\n",
       "      <td>Borussia Dortmund</td>\n",
       "      <td>Hamburg SV</td>\n",
       "      <td>...</td>\n",
       "      <td>NaN</td>\n",
       "      <td>NaN</td>\n",
       "      <td>NaN</td>\n",
       "      <td>NaN</td>\n",
       "      <td>0</td>\n",
       "      <td>NaN</td>\n",
       "      <td>NaN</td>\n",
       "      <td>0</td>\n",
       "      <td>NaN</td>\n",
       "      <td>0</td>\n",
       "    </tr>\n",
       "    <tr>\n",
       "      <th>4</th>\n",
       "      <td>UFot0hit/</td>\n",
       "      <td>UFot0hit5</td>\n",
       "      <td>5</td>\n",
       "      <td>7</td>\n",
       "      <td>Gokhan Tore (Hamburg) wins a free kick in the ...</td>\n",
       "      <td>8</td>\n",
       "      <td>NaN</td>\n",
       "      <td>2</td>\n",
       "      <td>Hamburg SV</td>\n",
       "      <td>Borussia Dortmund</td>\n",
       "      <td>...</td>\n",
       "      <td>NaN</td>\n",
       "      <td>NaN</td>\n",
       "      <td>NaN</td>\n",
       "      <td>NaN</td>\n",
       "      <td>0</td>\n",
       "      <td>2.0</td>\n",
       "      <td>NaN</td>\n",
       "      <td>0</td>\n",
       "      <td>NaN</td>\n",
       "      <td>0</td>\n",
       "    </tr>\n",
       "    <tr>\n",
       "      <th>...</th>\n",
       "      <td>...</td>\n",
       "      <td>...</td>\n",
       "      <td>...</td>\n",
       "      <td>...</td>\n",
       "      <td>...</td>\n",
       "      <td>...</td>\n",
       "      <td>...</td>\n",
       "      <td>...</td>\n",
       "      <td>...</td>\n",
       "      <td>...</td>\n",
       "      <td>...</td>\n",
       "      <td>...</td>\n",
       "      <td>...</td>\n",
       "      <td>...</td>\n",
       "      <td>...</td>\n",
       "      <td>...</td>\n",
       "      <td>...</td>\n",
       "      <td>...</td>\n",
       "      <td>...</td>\n",
       "      <td>...</td>\n",
       "      <td>...</td>\n",
       "    </tr>\n",
       "    <tr>\n",
       "      <th>941003</th>\n",
       "      <td>z5L2OT5E/</td>\n",
       "      <td>z5L2OT5E123</td>\n",
       "      <td>123</td>\n",
       "      <td>92</td>\n",
       "      <td>Lucas Torreira (Sampdoria) wins a free kick in...</td>\n",
       "      <td>8</td>\n",
       "      <td>NaN</td>\n",
       "      <td>2</td>\n",
       "      <td>Sampdoria</td>\n",
       "      <td>Atalanta</td>\n",
       "      <td>...</td>\n",
       "      <td>NaN</td>\n",
       "      <td>NaN</td>\n",
       "      <td>NaN</td>\n",
       "      <td>NaN</td>\n",
       "      <td>0</td>\n",
       "      <td>2.0</td>\n",
       "      <td>NaN</td>\n",
       "      <td>0</td>\n",
       "      <td>NaN</td>\n",
       "      <td>0</td>\n",
       "    </tr>\n",
       "    <tr>\n",
       "      <th>941004</th>\n",
       "      <td>z5L2OT5E/</td>\n",
       "      <td>z5L2OT5E124</td>\n",
       "      <td>124</td>\n",
       "      <td>93</td>\n",
       "      <td>Corner,  Sampdoria. Conceded by Andrea Masiello.</td>\n",
       "      <td>2</td>\n",
       "      <td>NaN</td>\n",
       "      <td>2</td>\n",
       "      <td>Sampdoria</td>\n",
       "      <td>Atalanta</td>\n",
       "      <td>...</td>\n",
       "      <td>NaN</td>\n",
       "      <td>NaN</td>\n",
       "      <td>NaN</td>\n",
       "      <td>NaN</td>\n",
       "      <td>0</td>\n",
       "      <td>NaN</td>\n",
       "      <td>NaN</td>\n",
       "      <td>0</td>\n",
       "      <td>NaN</td>\n",
       "      <td>0</td>\n",
       "    </tr>\n",
       "    <tr>\n",
       "      <th>941005</th>\n",
       "      <td>z5L2OT5E/</td>\n",
       "      <td>z5L2OT5E125</td>\n",
       "      <td>125</td>\n",
       "      <td>93</td>\n",
       "      <td>Attempt missed. Fabio Quagliarella (Sampdoria)...</td>\n",
       "      <td>1</td>\n",
       "      <td>12.0</td>\n",
       "      <td>2</td>\n",
       "      <td>Sampdoria</td>\n",
       "      <td>Atalanta</td>\n",
       "      <td>...</td>\n",
       "      <td>NaN</td>\n",
       "      <td>NaN</td>\n",
       "      <td>8.0</td>\n",
       "      <td>2.0</td>\n",
       "      <td>0</td>\n",
       "      <td>9.0</td>\n",
       "      <td>1.0</td>\n",
       "      <td>1</td>\n",
       "      <td>3.0</td>\n",
       "      <td>0</td>\n",
       "    </tr>\n",
       "    <tr>\n",
       "      <th>941006</th>\n",
       "      <td>z5L2OT5E/</td>\n",
       "      <td>z5L2OT5E126</td>\n",
       "      <td>126</td>\n",
       "      <td>94</td>\n",
       "      <td>Alberto Grassi (Atalanta) wins a free kick on ...</td>\n",
       "      <td>8</td>\n",
       "      <td>NaN</td>\n",
       "      <td>1</td>\n",
       "      <td>Atalanta</td>\n",
       "      <td>Sampdoria</td>\n",
       "      <td>...</td>\n",
       "      <td>NaN</td>\n",
       "      <td>NaN</td>\n",
       "      <td>NaN</td>\n",
       "      <td>NaN</td>\n",
       "      <td>0</td>\n",
       "      <td>4.0</td>\n",
       "      <td>NaN</td>\n",
       "      <td>0</td>\n",
       "      <td>NaN</td>\n",
       "      <td>0</td>\n",
       "    </tr>\n",
       "    <tr>\n",
       "      <th>941007</th>\n",
       "      <td>z5L2OT5E/</td>\n",
       "      <td>z5L2OT5E127</td>\n",
       "      <td>127</td>\n",
       "      <td>94</td>\n",
       "      <td>Foul by Pedro Pereira (Sampdoria).</td>\n",
       "      <td>3</td>\n",
       "      <td>NaN</td>\n",
       "      <td>2</td>\n",
       "      <td>Sampdoria</td>\n",
       "      <td>Atalanta</td>\n",
       "      <td>...</td>\n",
       "      <td>NaN</td>\n",
       "      <td>NaN</td>\n",
       "      <td>NaN</td>\n",
       "      <td>NaN</td>\n",
       "      <td>0</td>\n",
       "      <td>NaN</td>\n",
       "      <td>NaN</td>\n",
       "      <td>0</td>\n",
       "      <td>NaN</td>\n",
       "      <td>0</td>\n",
       "    </tr>\n",
       "  </tbody>\n",
       "</table>\n",
       "<p>941008 rows × 22 columns</p>\n",
       "</div>"
      ],
      "text/plain": [
       "          id_odsp     id_event  sort_order  time  \\\n",
       "0       UFot0hit/    UFot0hit1           1     2   \n",
       "1       UFot0hit/    UFot0hit2           2     4   \n",
       "2       UFot0hit/    UFot0hit3           3     4   \n",
       "3       UFot0hit/    UFot0hit4           4     7   \n",
       "4       UFot0hit/    UFot0hit5           5     7   \n",
       "...           ...          ...         ...   ...   \n",
       "941003  z5L2OT5E/  z5L2OT5E123         123    92   \n",
       "941004  z5L2OT5E/  z5L2OT5E124         124    93   \n",
       "941005  z5L2OT5E/  z5L2OT5E125         125    93   \n",
       "941006  z5L2OT5E/  z5L2OT5E126         126    94   \n",
       "941007  z5L2OT5E/  z5L2OT5E127         127    94   \n",
       "\n",
       "                                                     text  event_type  \\\n",
       "0       Attempt missed. Mladen Petric (Hamburg) left f...           1   \n",
       "1       Corner,  Borussia Dortmund. Conceded by Dennis...           2   \n",
       "2       Corner,  Borussia Dortmund. Conceded by Heiko ...           2   \n",
       "3                Foul by Sven Bender (Borussia Dortmund).           3   \n",
       "4       Gokhan Tore (Hamburg) wins a free kick in the ...           8   \n",
       "...                                                   ...         ...   \n",
       "941003  Lucas Torreira (Sampdoria) wins a free kick in...           8   \n",
       "941004   Corner,  Sampdoria. Conceded by Andrea Masiello.           2   \n",
       "941005  Attempt missed. Fabio Quagliarella (Sampdoria)...           1   \n",
       "941006  Alberto Grassi (Atalanta) wins a free kick on ...           8   \n",
       "941007                 Foul by Pedro Pereira (Sampdoria).           3   \n",
       "\n",
       "        event_type2  side         event_team           opponent  ...  \\\n",
       "0              12.0     2         Hamburg SV  Borussia Dortmund  ...   \n",
       "1               NaN     1  Borussia Dortmund         Hamburg SV  ...   \n",
       "2               NaN     1  Borussia Dortmund         Hamburg SV  ...   \n",
       "3               NaN     1  Borussia Dortmund         Hamburg SV  ...   \n",
       "4               NaN     2         Hamburg SV  Borussia Dortmund  ...   \n",
       "...             ...   ...                ...                ...  ...   \n",
       "941003          NaN     2          Sampdoria           Atalanta  ...   \n",
       "941004          NaN     2          Sampdoria           Atalanta  ...   \n",
       "941005         12.0     2          Sampdoria           Atalanta  ...   \n",
       "941006          NaN     1           Atalanta          Sampdoria  ...   \n",
       "941007          NaN     2          Sampdoria           Atalanta  ...   \n",
       "\n",
       "       player_in player_out shot_place shot_outcome  is_goal  location  \\\n",
       "0            NaN        NaN        6.0          2.0        0       9.0   \n",
       "1            NaN        NaN        NaN          NaN        0       NaN   \n",
       "2            NaN        NaN        NaN          NaN        0       NaN   \n",
       "3            NaN        NaN        NaN          NaN        0       NaN   \n",
       "4            NaN        NaN        NaN          NaN        0       2.0   \n",
       "...          ...        ...        ...          ...      ...       ...   \n",
       "941003       NaN        NaN        NaN          NaN        0       2.0   \n",
       "941004       NaN        NaN        NaN          NaN        0       NaN   \n",
       "941005       NaN        NaN        8.0          2.0        0       9.0   \n",
       "941006       NaN        NaN        NaN          NaN        0       4.0   \n",
       "941007       NaN        NaN        NaN          NaN        0       NaN   \n",
       "\n",
       "        bodypart  assist_method  situation  fast_break  \n",
       "0            2.0              1        1.0           0  \n",
       "1            NaN              0        NaN           0  \n",
       "2            NaN              0        NaN           0  \n",
       "3            NaN              0        NaN           0  \n",
       "4            NaN              0        NaN           0  \n",
       "...          ...            ...        ...         ...  \n",
       "941003       NaN              0        NaN           0  \n",
       "941004       NaN              0        NaN           0  \n",
       "941005       1.0              1        3.0           0  \n",
       "941006       NaN              0        NaN           0  \n",
       "941007       NaN              0        NaN           0  \n",
       "\n",
       "[941008 rows x 22 columns]"
      ]
     },
     "execution_count": 6,
     "metadata": {},
     "output_type": "execute_result"
    }
   ],
   "source": [
    "#Creata our Dataframe\n",
    "events = pd.read_csv(events)\n",
    "events"
   ]
  },
  {
   "cell_type": "code",
   "execution_count": 7,
   "metadata": {
    "colab": {
     "base_uri": "https://localhost:8080/"
    },
    "id": "SpXmqkXdRUdM",
    "outputId": "27b2c2fe-4990-49c2-c3e0-933482d7336b"
   },
   "outputs": [
    {
     "name": "stdout",
     "output_type": "stream",
     "text": [
      "<class 'pandas.core.frame.DataFrame'>\n",
      "RangeIndex: 941008 entries, 0 to 941007\n",
      "Data columns (total 22 columns):\n",
      " #   Column         Non-Null Count   Dtype  \n",
      "---  ------         --------------   -----  \n",
      " 0   id_odsp        941008 non-null  object \n",
      " 1   id_event       941008 non-null  object \n",
      " 2   sort_order     941008 non-null  int64  \n",
      " 3   time           941008 non-null  int64  \n",
      " 4   text           941008 non-null  object \n",
      " 5   event_type     941008 non-null  int64  \n",
      " 6   event_type2    214293 non-null  float64\n",
      " 7   side           941008 non-null  int64  \n",
      " 8   event_team     941008 non-null  object \n",
      " 9   opponent       941008 non-null  object \n",
      " 10  player         880009 non-null  object \n",
      " 11  player2        291310 non-null  object \n",
      " 12  player_in      51715 non-null   object \n",
      " 13  player_out     51738 non-null   object \n",
      " 14  shot_place     227458 non-null  float64\n",
      " 15  shot_outcome   228497 non-null  float64\n",
      " 16  is_goal        941008 non-null  int64  \n",
      " 17  location       467066 non-null  float64\n",
      " 18  bodypart       229184 non-null  float64\n",
      " 19  assist_method  941008 non-null  int64  \n",
      " 20  situation      229136 non-null  float64\n",
      " 21  fast_break     941008 non-null  int64  \n",
      "dtypes: float64(6), int64(7), object(9)\n",
      "memory usage: 157.9+ MB\n"
     ]
    }
   ],
   "source": [
    "events.info()"
   ]
  },
  {
   "cell_type": "code",
   "execution_count": 8,
   "metadata": {
    "colab": {
     "base_uri": "https://localhost:8080/"
    },
    "id": "YqmXiHl_TKw7",
    "outputId": "f4852b04-ad7a-47c5-d17e-a1e59c020e63"
   },
   "outputs": [
    {
     "data": {
      "text/plain": [
       "Index(['id_odsp', 'id_event', 'sort_order', 'time', 'text', 'event_type',\n",
       "       'event_type2', 'side', 'event_team', 'opponent', 'player', 'player2',\n",
       "       'player_in', 'player_out', 'shot_place', 'shot_outcome', 'is_goal',\n",
       "       'location', 'bodypart', 'assist_method', 'situation', 'fast_break'],\n",
       "      dtype='object')"
      ]
     },
     "execution_count": 8,
     "metadata": {},
     "output_type": "execute_result"
    }
   ],
   "source": [
    "#Show data columns\n",
    "\n",
    "events.columns"
   ]
  },
  {
   "cell_type": "code",
   "execution_count": 9,
   "metadata": {
    "colab": {
     "base_uri": "https://localhost:8080/"
    },
    "id": "cM1L8gt-TWb0",
    "outputId": "61da7b36-6a3e-4197-c426-aaac9d0052a0"
   },
   "outputs": [
    {
     "data": {
      "text/plain": [
       "array([0, 1], dtype=int64)"
      ]
     },
     "execution_count": 9,
     "metadata": {},
     "output_type": "execute_result"
    }
   ],
   "source": [
    "# Find out the values of the \"is goal column\"\n",
    "events[\"is_goal\"].unique()"
   ]
  },
  {
   "cell_type": "code",
   "execution_count": 10,
   "metadata": {
    "colab": {
     "base_uri": "https://localhost:8080/"
    },
    "id": "j5PmofrZTcnE",
    "outputId": "6bdfd89d-1b3a-4a58-9fd8-11257c0c4abd"
   },
   "outputs": [
    {
     "data": {
      "text/plain": [
       "0    916562\n",
       "1     24446\n",
       "Name: is_goal, dtype: int64"
      ]
     },
     "execution_count": 10,
     "metadata": {},
     "output_type": "execute_result"
    }
   ],
   "source": [
    "#find out the count of \"is goal golumn\"\n",
    "events[\"is_goal\"].value_counts()"
   ]
  },
  {
   "cell_type": "code",
   "execution_count": 11,
   "metadata": {
    "id": "inpkyo7fgXQ4"
   },
   "outputs": [],
   "source": [
    "# Reading the dictionary data to see what event type are \n",
    "\n",
    "dictionary_text = open('dictionary.txt')"
   ]
  },
  {
   "cell_type": "code",
   "execution_count": 12,
   "metadata": {
    "colab": {
     "base_uri": "https://localhost:8080/",
     "height": 140
    },
    "id": "4UlPI2DsgYeA",
    "outputId": "7b0f004a-f4f7-4c8d-ec83-4b0a24797e2c"
   },
   "outputs": [
    {
     "data": {
      "text/plain": [
       "'event_type\\n0\\tAnnouncement\\n1\\tAttempt\\n2\\tCorner\\n3\\tFoul\\n4\\tYellow card\\n5\\tSecond yellow card\\n6\\tRed card\\n7\\tSubstitution\\n8\\tFree kick won\\n9\\tOffside\\n10\\tHand ball\\n11\\tPenalty conceded\\n\\n\\nevent_type2\\n12\\tKey Pass\\n13\\tFailed through ball\\n14\\tSending off\\n15\\tOwn goal\\n\\n\\nside\\n1\\tHome\\n2\\tAway\\n\\n\\nshot_place\\n1\\tBit too high\\n2\\tBlocked\\n3\\tBottom left corner\\n4\\tBottom right corner\\n5\\tCentre of the goal\\n6\\tHigh and wide\\n7\\tHits the bar\\n8\\tMisses to the left\\n9\\tMisses to the right\\n10\\tToo high\\n11\\tTop centre of the goal\\n12\\tTop left corner\\n13\\tTop right corner\\n\\n\\nshot_outcome\\n1\\tOn target\\n2\\tOff target\\n3\\tBlocked\\n4\\tHit the bar\\n\\n\\nlocation\\n1\\tAttacking half\\n2\\tDefensive half\\n3\\tCentre of the box\\n4\\tLeft wing\\n5\\tRight wing\\n6\\tDifficult angle and long range\\n7\\tDifficult angle on the left\\n8\\tDifficult angle on the right\\n9\\tLeft side of the box\\n10\\tLeft side of the six yard box\\n11\\tRight side of the box\\n12\\tRight side of the six yard box\\n13\\tVery close range\\n14\\tPenalty spot\\n15\\tOutside the box\\n16\\tLong range\\n17\\tMore than 35 yards\\n18\\tMore than 40 yards\\n19\\tNot recorded\\n\\n\\nbodypart\\n1\\tright foot\\n2\\tleft foot\\n3\\thead\\n\\n\\nassist_method\\n0\\tNone\\n1\\tPass\\n2\\tCross\\n3\\tHeaded pass\\n4\\tThrough ball\\n\\n\\nsituation\\n1\\tOpen play\\n2\\tSet piece\\n3\\tCorner\\n4\\tFree kick\\n\\n\\n\\n\\n\\n\\n\\n\\n\\n\\n\\n\\n\\n\\n\\n\\n\\n'"
      ]
     },
     "execution_count": 12,
     "metadata": {},
     "output_type": "execute_result"
    }
   ],
   "source": [
    "dictionary_text.read()"
   ]
  },
  {
   "cell_type": "code",
   "execution_count": 13,
   "metadata": {
    "colab": {
     "base_uri": "https://localhost:8080/",
     "height": 424
    },
    "id": "xZdwVxWtgfjf",
    "outputId": "acdf2f84-5370-495d-c2c8-69e2e8ca14ba"
   },
   "outputs": [
    {
     "data": {
      "text/html": [
       "<div>\n",
       "<style scoped>\n",
       "    .dataframe tbody tr th:only-of-type {\n",
       "        vertical-align: middle;\n",
       "    }\n",
       "\n",
       "    .dataframe tbody tr th {\n",
       "        vertical-align: top;\n",
       "    }\n",
       "\n",
       "    .dataframe thead th {\n",
       "        text-align: right;\n",
       "    }\n",
       "</style>\n",
       "<table border=\"1\" class=\"dataframe\">\n",
       "  <thead>\n",
       "    <tr style=\"text-align: right;\">\n",
       "      <th></th>\n",
       "      <th>num</th>\n",
       "      <th>events</th>\n",
       "    </tr>\n",
       "  </thead>\n",
       "  <tbody>\n",
       "    <tr>\n",
       "      <th>0</th>\n",
       "      <td>event_type</td>\n",
       "      <td>NaN</td>\n",
       "    </tr>\n",
       "    <tr>\n",
       "      <th>1</th>\n",
       "      <td>0</td>\n",
       "      <td>Announcement</td>\n",
       "    </tr>\n",
       "    <tr>\n",
       "      <th>2</th>\n",
       "      <td>1</td>\n",
       "      <td>Attempt</td>\n",
       "    </tr>\n",
       "    <tr>\n",
       "      <th>3</th>\n",
       "      <td>2</td>\n",
       "      <td>Corner</td>\n",
       "    </tr>\n",
       "    <tr>\n",
       "      <th>4</th>\n",
       "      <td>3</td>\n",
       "      <td>Foul</td>\n",
       "    </tr>\n",
       "    <tr>\n",
       "      <th>...</th>\n",
       "      <td>...</td>\n",
       "      <td>...</td>\n",
       "    </tr>\n",
       "    <tr>\n",
       "      <th>70</th>\n",
       "      <td>situation</td>\n",
       "      <td>NaN</td>\n",
       "    </tr>\n",
       "    <tr>\n",
       "      <th>71</th>\n",
       "      <td>1</td>\n",
       "      <td>Open play</td>\n",
       "    </tr>\n",
       "    <tr>\n",
       "      <th>72</th>\n",
       "      <td>2</td>\n",
       "      <td>Set piece</td>\n",
       "    </tr>\n",
       "    <tr>\n",
       "      <th>73</th>\n",
       "      <td>3</td>\n",
       "      <td>Corner</td>\n",
       "    </tr>\n",
       "    <tr>\n",
       "      <th>74</th>\n",
       "      <td>4</td>\n",
       "      <td>Free kick</td>\n",
       "    </tr>\n",
       "  </tbody>\n",
       "</table>\n",
       "<p>75 rows × 2 columns</p>\n",
       "</div>"
      ],
      "text/plain": [
       "           num        events\n",
       "0   event_type           NaN\n",
       "1            0  Announcement\n",
       "2            1       Attempt\n",
       "3            2        Corner\n",
       "4            3          Foul\n",
       "..         ...           ...\n",
       "70   situation           NaN\n",
       "71           1     Open play\n",
       "72           2     Set piece\n",
       "73           3        Corner\n",
       "74           4     Free kick\n",
       "\n",
       "[75 rows x 2 columns]"
      ]
     },
     "execution_count": 13,
     "metadata": {},
     "output_type": "execute_result"
    }
   ],
   "source": [
    "encoding = pd.read_table('dictionary.txt',  names=('num','events'))\n",
    "encoding"
   ]
  },
  {
   "cell_type": "code",
   "execution_count": 14,
   "metadata": {
    "colab": {
     "base_uri": "https://localhost:8080/"
    },
    "id": "-wjwCaD3gjcO",
    "outputId": "c123f4ea-6f89-4785-b159-416e543eb374"
   },
   "outputs": [
    {
     "data": {
      "text/plain": [
       "array([ 1,  2,  3,  8, 10,  7,  9,  4,  6, 11,  5], dtype=int64)"
      ]
     },
     "execution_count": 14,
     "metadata": {},
     "output_type": "execute_result"
    }
   ],
   "source": [
    "## checking the events column\n",
    "events[\"event_type\"].unique()"
   ]
  },
  {
   "cell_type": "code",
   "execution_count": 15,
   "metadata": {
    "colab": {
     "base_uri": "https://localhost:8080/"
    },
    "id": "tH-aXzDlh-xh",
    "outputId": "d75f8840-b2da-4a62-9393-93d2565b4fce"
   },
   "outputs": [
    {
     "data": {
      "text/plain": [
       "8     237932\n",
       "3     232925\n",
       "1     229134\n",
       "2      91204\n",
       "7      51738\n",
       "9      43476\n",
       "4      39911\n",
       "10     10730\n",
       "11      2706\n",
       "6       1152\n",
       "5        100\n",
       "Name: event_type, dtype: int64"
      ]
     },
     "execution_count": 15,
     "metadata": {},
     "output_type": "execute_result"
    }
   ],
   "source": [
    "#find out the count of \"event_type\"\n",
    "events[\"event_type\"].value_counts()"
   ]
  },
  {
   "cell_type": "code",
   "execution_count": 16,
   "metadata": {
    "colab": {
     "base_uri": "https://localhost:8080/",
     "height": 751
    },
    "id": "Sn-FeqXxiKsO",
    "outputId": "baf7e3f3-b91f-41e2-8ed4-20e3a88ba59e"
   },
   "outputs": [
    {
     "data": {
      "text/html": [
       "<div>\n",
       "<style scoped>\n",
       "    .dataframe tbody tr th:only-of-type {\n",
       "        vertical-align: middle;\n",
       "    }\n",
       "\n",
       "    .dataframe tbody tr th {\n",
       "        vertical-align: top;\n",
       "    }\n",
       "\n",
       "    .dataframe thead th {\n",
       "        text-align: right;\n",
       "    }\n",
       "</style>\n",
       "<table border=\"1\" class=\"dataframe\">\n",
       "  <thead>\n",
       "    <tr style=\"text-align: right;\">\n",
       "      <th></th>\n",
       "      <th>id_odsp</th>\n",
       "      <th>id_event</th>\n",
       "      <th>sort_order</th>\n",
       "      <th>time</th>\n",
       "      <th>text</th>\n",
       "      <th>event_type</th>\n",
       "      <th>event_type2</th>\n",
       "      <th>side</th>\n",
       "      <th>event_team</th>\n",
       "      <th>opponent</th>\n",
       "      <th>...</th>\n",
       "      <th>player_in</th>\n",
       "      <th>player_out</th>\n",
       "      <th>shot_place</th>\n",
       "      <th>shot_outcome</th>\n",
       "      <th>is_goal</th>\n",
       "      <th>location</th>\n",
       "      <th>bodypart</th>\n",
       "      <th>assist_method</th>\n",
       "      <th>situation</th>\n",
       "      <th>fast_break</th>\n",
       "    </tr>\n",
       "  </thead>\n",
       "  <tbody>\n",
       "    <tr>\n",
       "      <th>0</th>\n",
       "      <td>UFot0hit/</td>\n",
       "      <td>UFot0hit1</td>\n",
       "      <td>1</td>\n",
       "      <td>2</td>\n",
       "      <td>Attempt missed. Mladen Petric (Hamburg) left f...</td>\n",
       "      <td>1</td>\n",
       "      <td>12.0</td>\n",
       "      <td>2</td>\n",
       "      <td>Hamburg SV</td>\n",
       "      <td>Borussia Dortmund</td>\n",
       "      <td>...</td>\n",
       "      <td>NaN</td>\n",
       "      <td>NaN</td>\n",
       "      <td>6.0</td>\n",
       "      <td>2.0</td>\n",
       "      <td>0</td>\n",
       "      <td>9.0</td>\n",
       "      <td>2.0</td>\n",
       "      <td>1</td>\n",
       "      <td>1.0</td>\n",
       "      <td>0</td>\n",
       "    </tr>\n",
       "    <tr>\n",
       "      <th>11</th>\n",
       "      <td>UFot0hit/</td>\n",
       "      <td>UFot0hit12</td>\n",
       "      <td>12</td>\n",
       "      <td>14</td>\n",
       "      <td>Attempt missed. Shinji Kagawa (Borussia Dortmu...</td>\n",
       "      <td>1</td>\n",
       "      <td>12.0</td>\n",
       "      <td>1</td>\n",
       "      <td>Borussia Dortmund</td>\n",
       "      <td>Hamburg SV</td>\n",
       "      <td>...</td>\n",
       "      <td>NaN</td>\n",
       "      <td>NaN</td>\n",
       "      <td>13.0</td>\n",
       "      <td>2.0</td>\n",
       "      <td>0</td>\n",
       "      <td>15.0</td>\n",
       "      <td>1.0</td>\n",
       "      <td>1</td>\n",
       "      <td>1.0</td>\n",
       "      <td>0</td>\n",
       "    </tr>\n",
       "    <tr>\n",
       "      <th>13</th>\n",
       "      <td>UFot0hit/</td>\n",
       "      <td>UFot0hit14</td>\n",
       "      <td>14</td>\n",
       "      <td>17</td>\n",
       "      <td>Goal!  Borussia Dortmund 1, Hamburg 0. Kevin G...</td>\n",
       "      <td>1</td>\n",
       "      <td>12.0</td>\n",
       "      <td>1</td>\n",
       "      <td>Borussia Dortmund</td>\n",
       "      <td>Hamburg SV</td>\n",
       "      <td>...</td>\n",
       "      <td>NaN</td>\n",
       "      <td>NaN</td>\n",
       "      <td>4.0</td>\n",
       "      <td>1.0</td>\n",
       "      <td>1</td>\n",
       "      <td>9.0</td>\n",
       "      <td>2.0</td>\n",
       "      <td>1</td>\n",
       "      <td>1.0</td>\n",
       "      <td>0</td>\n",
       "    </tr>\n",
       "    <tr>\n",
       "      <th>14</th>\n",
       "      <td>UFot0hit/</td>\n",
       "      <td>UFot0hit15</td>\n",
       "      <td>15</td>\n",
       "      <td>19</td>\n",
       "      <td>Attempt blocked. Mats Hummels (Borussia Dortmu...</td>\n",
       "      <td>1</td>\n",
       "      <td>NaN</td>\n",
       "      <td>1</td>\n",
       "      <td>Borussia Dortmund</td>\n",
       "      <td>Hamburg SV</td>\n",
       "      <td>...</td>\n",
       "      <td>NaN</td>\n",
       "      <td>NaN</td>\n",
       "      <td>2.0</td>\n",
       "      <td>3.0</td>\n",
       "      <td>0</td>\n",
       "      <td>15.0</td>\n",
       "      <td>1.0</td>\n",
       "      <td>0</td>\n",
       "      <td>1.0</td>\n",
       "      <td>0</td>\n",
       "    </tr>\n",
       "    <tr>\n",
       "      <th>17</th>\n",
       "      <td>UFot0hit/</td>\n",
       "      <td>UFot0hit18</td>\n",
       "      <td>18</td>\n",
       "      <td>20</td>\n",
       "      <td>Attempt blocked. Tomas Rincon (Hamburg) right ...</td>\n",
       "      <td>1</td>\n",
       "      <td>NaN</td>\n",
       "      <td>2</td>\n",
       "      <td>Hamburg SV</td>\n",
       "      <td>Borussia Dortmund</td>\n",
       "      <td>...</td>\n",
       "      <td>NaN</td>\n",
       "      <td>NaN</td>\n",
       "      <td>2.0</td>\n",
       "      <td>3.0</td>\n",
       "      <td>0</td>\n",
       "      <td>15.0</td>\n",
       "      <td>1.0</td>\n",
       "      <td>0</td>\n",
       "      <td>1.0</td>\n",
       "      <td>0</td>\n",
       "    </tr>\n",
       "  </tbody>\n",
       "</table>\n",
       "<p>5 rows × 22 columns</p>\n",
       "</div>"
      ],
      "text/plain": [
       "      id_odsp    id_event  sort_order  time  \\\n",
       "0   UFot0hit/   UFot0hit1           1     2   \n",
       "11  UFot0hit/  UFot0hit12          12    14   \n",
       "13  UFot0hit/  UFot0hit14          14    17   \n",
       "14  UFot0hit/  UFot0hit15          15    19   \n",
       "17  UFot0hit/  UFot0hit18          18    20   \n",
       "\n",
       "                                                 text  event_type  \\\n",
       "0   Attempt missed. Mladen Petric (Hamburg) left f...           1   \n",
       "11  Attempt missed. Shinji Kagawa (Borussia Dortmu...           1   \n",
       "13  Goal!  Borussia Dortmund 1, Hamburg 0. Kevin G...           1   \n",
       "14  Attempt blocked. Mats Hummels (Borussia Dortmu...           1   \n",
       "17  Attempt blocked. Tomas Rincon (Hamburg) right ...           1   \n",
       "\n",
       "    event_type2  side         event_team           opponent  ... player_in  \\\n",
       "0          12.0     2         Hamburg SV  Borussia Dortmund  ...       NaN   \n",
       "11         12.0     1  Borussia Dortmund         Hamburg SV  ...       NaN   \n",
       "13         12.0     1  Borussia Dortmund         Hamburg SV  ...       NaN   \n",
       "14          NaN     1  Borussia Dortmund         Hamburg SV  ...       NaN   \n",
       "17          NaN     2         Hamburg SV  Borussia Dortmund  ...       NaN   \n",
       "\n",
       "   player_out shot_place shot_outcome  is_goal  location  bodypart  \\\n",
       "0         NaN        6.0          2.0        0       9.0       2.0   \n",
       "11        NaN       13.0          2.0        0      15.0       1.0   \n",
       "13        NaN        4.0          1.0        1       9.0       2.0   \n",
       "14        NaN        2.0          3.0        0      15.0       1.0   \n",
       "17        NaN        2.0          3.0        0      15.0       1.0   \n",
       "\n",
       "    assist_method  situation  fast_break  \n",
       "0               1        1.0           0  \n",
       "11              1        1.0           0  \n",
       "13              1        1.0           0  \n",
       "14              0        1.0           0  \n",
       "17              0        1.0           0  \n",
       "\n",
       "[5 rows x 22 columns]"
      ]
     },
     "execution_count": 16,
     "metadata": {},
     "output_type": "execute_result"
    }
   ],
   "source": [
    "# We need the is_goal  column for events and the event_type when is equal 1 since that is a shot attempt.\n",
    "shot_attempts = events[events[\"event_type\"]== 1]\n",
    "\n",
    "# We check the filter\n",
    "shot_attempts.head() "
   ]
  },
  {
   "cell_type": "code",
   "execution_count": 17,
   "metadata": {
    "colab": {
     "base_uri": "https://localhost:8080/"
    },
    "id": "1Ohd0cP6iZl_",
    "outputId": "f002aa93-acf1-43d6-907a-e8b5078776e2"
   },
   "outputs": [
    {
     "data": {
      "text/plain": [
       "1    229134\n",
       "Name: event_type, dtype: int64"
      ]
     },
     "execution_count": 17,
     "metadata": {},
     "output_type": "execute_result"
    }
   ],
   "source": [
    "### We'll check is the number is the same in both databases\n",
    "shot_attempts[\"event_type\"].value_counts()"
   ]
  },
  {
   "cell_type": "code",
   "execution_count": 18,
   "metadata": {
    "colab": {
     "base_uri": "https://localhost:8080/"
    },
    "id": "oameNrY2cauJ",
    "outputId": "6299c9ac-4b95-4b41-f56d-721fe98c4a0a"
   },
   "outputs": [
    {
     "name": "stdout",
     "output_type": "stream",
     "text": [
      "1438\n"
     ]
    }
   ],
   "source": [
    "# According to our dictionary database there are some shot locations that are not recorded (number 19)\n",
    "print(shot_attempts.player[shot_attempts.location == 19].count()) "
   ]
  },
  {
   "cell_type": "code",
   "execution_count": 19,
   "metadata": {
    "colab": {
     "base_uri": "https://localhost:8080/"
    },
    "id": "HGdnK2dGc1HR",
    "outputId": "b0d852ab-53ea-4921-ad66-c6626afd519d"
   },
   "outputs": [
    {
     "name": "stdout",
     "output_type": "stream",
     "text": [
      "1    0.632817\n",
      "Name: event_type, dtype: float64\n"
     ]
    }
   ],
   "source": [
    "# Let's see the percentage. \n",
    "print(shot_attempts.event_type[shot_attempts.location == 19].count()/shot_attempts[\"event_type\"].value_counts()* 100) "
   ]
  },
  {
   "cell_type": "code",
   "execution_count": 20,
   "metadata": {
    "id": "zcDkbcg-eQBZ"
   },
   "outputs": [],
   "source": [
    "#Since is less than 1% we are going to drop those values, even though it may affect our results, it will have a minimal effect\n",
    "\n",
    "shot_attempts = shot_attempts[shot_attempts.location != 19]\n"
   ]
  },
  {
   "cell_type": "code",
   "execution_count": 21,
   "metadata": {
    "colab": {
     "base_uri": "https://localhost:8080/"
    },
    "id": "TW_Mxy78nqd8",
    "outputId": "256066dc-057c-48f4-f592-dc18f7c8801b"
   },
   "outputs": [
    {
     "data": {
      "text/plain": [
       "id_odsp          False\n",
       "id_event         False\n",
       "sort_order       False\n",
       "time             False\n",
       "text             False\n",
       "event_type       False\n",
       "event_type2       True\n",
       "side             False\n",
       "event_team       False\n",
       "opponent         False\n",
       "player           False\n",
       "player2           True\n",
       "player_in         True\n",
       "player_out        True\n",
       "shot_place        True\n",
       "shot_outcome     False\n",
       "is_goal          False\n",
       "location         False\n",
       "bodypart         False\n",
       "assist_method    False\n",
       "situation        False\n",
       "fast_break       False\n",
       "dtype: bool"
      ]
     },
     "execution_count": 21,
     "metadata": {},
     "output_type": "execute_result"
    }
   ],
   "source": [
    "#cHECK NULL VALUIES\n",
    "shot_attempts.isna().any()"
   ]
  },
  {
   "cell_type": "code",
   "execution_count": 22,
   "metadata": {
    "id": "Zb5f6_nBmVxn"
   },
   "outputs": [],
   "source": [
    "#Let's start our training and testing\n",
    "# Create our features\n",
    "X = shot_attempts[['time', 'side', 'bodypart', 'location', 'situation', 'assist_method', 'fast_break']]\n",
    "\n",
    "X = pd.get_dummies(X)\n",
    "\n",
    "# Create our target\n",
    "y = shot_attempts['is_goal']\n"
   ]
  },
  {
   "cell_type": "code",
   "execution_count": 23,
   "metadata": {
    "colab": {
     "base_uri": "https://localhost:8080/",
     "height": 206
    },
    "id": "lvW22c4NmV8j",
    "outputId": "827ad60d-affe-4549-f6e3-7ffcbef4f445"
   },
   "outputs": [
    {
     "data": {
      "text/html": [
       "<div>\n",
       "<style scoped>\n",
       "    .dataframe tbody tr th:only-of-type {\n",
       "        vertical-align: middle;\n",
       "    }\n",
       "\n",
       "    .dataframe tbody tr th {\n",
       "        vertical-align: top;\n",
       "    }\n",
       "\n",
       "    .dataframe thead th {\n",
       "        text-align: right;\n",
       "    }\n",
       "</style>\n",
       "<table border=\"1\" class=\"dataframe\">\n",
       "  <thead>\n",
       "    <tr style=\"text-align: right;\">\n",
       "      <th></th>\n",
       "      <th>time</th>\n",
       "      <th>side</th>\n",
       "      <th>bodypart</th>\n",
       "      <th>location</th>\n",
       "      <th>situation</th>\n",
       "      <th>assist_method</th>\n",
       "      <th>fast_break</th>\n",
       "    </tr>\n",
       "  </thead>\n",
       "  <tbody>\n",
       "    <tr>\n",
       "      <th>0</th>\n",
       "      <td>2</td>\n",
       "      <td>2</td>\n",
       "      <td>2.0</td>\n",
       "      <td>9.0</td>\n",
       "      <td>1.0</td>\n",
       "      <td>1</td>\n",
       "      <td>0</td>\n",
       "    </tr>\n",
       "    <tr>\n",
       "      <th>11</th>\n",
       "      <td>14</td>\n",
       "      <td>1</td>\n",
       "      <td>1.0</td>\n",
       "      <td>15.0</td>\n",
       "      <td>1.0</td>\n",
       "      <td>1</td>\n",
       "      <td>0</td>\n",
       "    </tr>\n",
       "    <tr>\n",
       "      <th>13</th>\n",
       "      <td>17</td>\n",
       "      <td>1</td>\n",
       "      <td>2.0</td>\n",
       "      <td>9.0</td>\n",
       "      <td>1.0</td>\n",
       "      <td>1</td>\n",
       "      <td>0</td>\n",
       "    </tr>\n",
       "    <tr>\n",
       "      <th>14</th>\n",
       "      <td>19</td>\n",
       "      <td>1</td>\n",
       "      <td>1.0</td>\n",
       "      <td>15.0</td>\n",
       "      <td>1.0</td>\n",
       "      <td>0</td>\n",
       "      <td>0</td>\n",
       "    </tr>\n",
       "    <tr>\n",
       "      <th>17</th>\n",
       "      <td>20</td>\n",
       "      <td>2</td>\n",
       "      <td>1.0</td>\n",
       "      <td>15.0</td>\n",
       "      <td>1.0</td>\n",
       "      <td>0</td>\n",
       "      <td>0</td>\n",
       "    </tr>\n",
       "  </tbody>\n",
       "</table>\n",
       "</div>"
      ],
      "text/plain": [
       "    time  side  bodypart  location  situation  assist_method  fast_break\n",
       "0      2     2       2.0       9.0        1.0              1           0\n",
       "11    14     1       1.0      15.0        1.0              1           0\n",
       "13    17     1       2.0       9.0        1.0              1           0\n",
       "14    19     1       1.0      15.0        1.0              0           0\n",
       "17    20     2       1.0      15.0        1.0              0           0"
      ]
     },
     "execution_count": 23,
     "metadata": {},
     "output_type": "execute_result"
    }
   ],
   "source": [
    "X.head()"
   ]
  },
  {
   "cell_type": "code",
   "execution_count": 24,
   "metadata": {
    "colab": {
     "base_uri": "https://localhost:8080/"
    },
    "id": "mAmWIs_rxpvd",
    "outputId": "8c1c9dc1-1687-466d-c12f-774032f94fb0"
   },
   "outputs": [
    {
     "data": {
      "text/plain": [
       "(170763, 7)"
      ]
     },
     "execution_count": 24,
     "metadata": {},
     "output_type": "execute_result"
    }
   ],
   "source": [
    "from sklearn.model_selection import train_test_split\n",
    "# YOUR CODE HERE\n",
    "X_train, X_test, y_train, y_test = train_test_split(X, y, random_state=1, stratify=y)\n",
    "X_train.shape"
   ]
  },
  {
   "cell_type": "code",
   "execution_count": 25,
   "metadata": {
    "colab": {
     "base_uri": "https://localhost:8080/",
     "height": 300
    },
    "id": "HFiHLBLJuSBm",
    "outputId": "b2e41383-a675-4568-c962-1c86cb44c7fb"
   },
   "outputs": [
    {
     "data": {
      "text/html": [
       "<div>\n",
       "<style scoped>\n",
       "    .dataframe tbody tr th:only-of-type {\n",
       "        vertical-align: middle;\n",
       "    }\n",
       "\n",
       "    .dataframe tbody tr th {\n",
       "        vertical-align: top;\n",
       "    }\n",
       "\n",
       "    .dataframe thead th {\n",
       "        text-align: right;\n",
       "    }\n",
       "</style>\n",
       "<table border=\"1\" class=\"dataframe\">\n",
       "  <thead>\n",
       "    <tr style=\"text-align: right;\">\n",
       "      <th></th>\n",
       "      <th>time</th>\n",
       "      <th>side</th>\n",
       "      <th>bodypart</th>\n",
       "      <th>location</th>\n",
       "      <th>situation</th>\n",
       "      <th>assist_method</th>\n",
       "      <th>fast_break</th>\n",
       "    </tr>\n",
       "  </thead>\n",
       "  <tbody>\n",
       "    <tr>\n",
       "      <th>count</th>\n",
       "      <td>227684.000000</td>\n",
       "      <td>227684.000000</td>\n",
       "      <td>227684.000000</td>\n",
       "      <td>227684.000000</td>\n",
       "      <td>227684.000000</td>\n",
       "      <td>227684.00000</td>\n",
       "      <td>227684.000000</td>\n",
       "    </tr>\n",
       "    <tr>\n",
       "      <th>mean</th>\n",
       "      <td>49.219471</td>\n",
       "      <td>1.445047</td>\n",
       "      <td>1.627725</td>\n",
       "      <td>10.118067</td>\n",
       "      <td>1.273388</td>\n",
       "      <td>1.09218</td>\n",
       "      <td>0.020151</td>\n",
       "    </tr>\n",
       "    <tr>\n",
       "      <th>std</th>\n",
       "      <td>26.390338</td>\n",
       "      <td>0.496972</td>\n",
       "      <td>0.741303</td>\n",
       "      <td>5.194692</td>\n",
       "      <td>0.694406</td>\n",
       "      <td>0.93339</td>\n",
       "      <td>0.140516</td>\n",
       "    </tr>\n",
       "    <tr>\n",
       "      <th>min</th>\n",
       "      <td>0.000000</td>\n",
       "      <td>1.000000</td>\n",
       "      <td>1.000000</td>\n",
       "      <td>3.000000</td>\n",
       "      <td>1.000000</td>\n",
       "      <td>0.00000</td>\n",
       "      <td>0.000000</td>\n",
       "    </tr>\n",
       "    <tr>\n",
       "      <th>25%</th>\n",
       "      <td>27.000000</td>\n",
       "      <td>1.000000</td>\n",
       "      <td>1.000000</td>\n",
       "      <td>3.000000</td>\n",
       "      <td>1.000000</td>\n",
       "      <td>0.00000</td>\n",
       "      <td>0.000000</td>\n",
       "    </tr>\n",
       "    <tr>\n",
       "      <th>50%</th>\n",
       "      <td>50.000000</td>\n",
       "      <td>1.000000</td>\n",
       "      <td>1.000000</td>\n",
       "      <td>11.000000</td>\n",
       "      <td>1.000000</td>\n",
       "      <td>1.00000</td>\n",
       "      <td>0.000000</td>\n",
       "    </tr>\n",
       "    <tr>\n",
       "      <th>75%</th>\n",
       "      <td>72.000000</td>\n",
       "      <td>2.000000</td>\n",
       "      <td>2.000000</td>\n",
       "      <td>15.000000</td>\n",
       "      <td>1.000000</td>\n",
       "      <td>2.00000</td>\n",
       "      <td>0.000000</td>\n",
       "    </tr>\n",
       "    <tr>\n",
       "      <th>max</th>\n",
       "      <td>100.000000</td>\n",
       "      <td>2.000000</td>\n",
       "      <td>3.000000</td>\n",
       "      <td>18.000000</td>\n",
       "      <td>4.000000</td>\n",
       "      <td>4.00000</td>\n",
       "      <td>1.000000</td>\n",
       "    </tr>\n",
       "  </tbody>\n",
       "</table>\n",
       "</div>"
      ],
      "text/plain": [
       "                time           side       bodypart       location  \\\n",
       "count  227684.000000  227684.000000  227684.000000  227684.000000   \n",
       "mean       49.219471       1.445047       1.627725      10.118067   \n",
       "std        26.390338       0.496972       0.741303       5.194692   \n",
       "min         0.000000       1.000000       1.000000       3.000000   \n",
       "25%        27.000000       1.000000       1.000000       3.000000   \n",
       "50%        50.000000       1.000000       1.000000      11.000000   \n",
       "75%        72.000000       2.000000       2.000000      15.000000   \n",
       "max       100.000000       2.000000       3.000000      18.000000   \n",
       "\n",
       "           situation  assist_method     fast_break  \n",
       "count  227684.000000   227684.00000  227684.000000  \n",
       "mean        1.273388        1.09218       0.020151  \n",
       "std         0.694406        0.93339       0.140516  \n",
       "min         1.000000        0.00000       0.000000  \n",
       "25%         1.000000        0.00000       0.000000  \n",
       "50%         1.000000        1.00000       0.000000  \n",
       "75%         1.000000        2.00000       0.000000  \n",
       "max         4.000000        4.00000       1.000000  "
      ]
     },
     "execution_count": 25,
     "metadata": {},
     "output_type": "execute_result"
    }
   ],
   "source": [
    "X.describe()"
   ]
  },
  {
   "cell_type": "code",
   "execution_count": 26,
   "metadata": {
    "colab": {
     "base_uri": "https://localhost:8080/"
    },
    "id": "Zh1YsPP-uNpD",
    "outputId": "8f0cbfa4-5e16-4e55-fd28-f0670e7b20a1"
   },
   "outputs": [
    {
     "data": {
      "text/plain": [
       "0    204681\n",
       "1     23003\n",
       "Name: is_goal, dtype: int64"
      ]
     },
     "execution_count": 26,
     "metadata": {},
     "output_type": "execute_result"
    }
   ],
   "source": [
    "# Check the balance of our target values\n",
    "y.value_counts()"
   ]
  },
  {
   "cell_type": "code",
   "execution_count": 27,
   "metadata": {
    "colab": {
     "base_uri": "https://localhost:8080/"
    },
    "id": "w0Ergi87sQEL",
    "outputId": "f6058f65-b995-43a4-c483-ea54a341ffee"
   },
   "outputs": [
    {
     "name": "stdout",
     "output_type": "stream",
     "text": [
      "(170763, 7)\n"
     ]
    }
   ],
   "source": [
    "# Balanced Random Forest Classifier\n",
    "\n",
    "# Resample the training data with the BalancedRandomForestClassifier\n",
    "from imblearn.ensemble import BalancedRandomForestClassifier\n",
    "brfc = BalancedRandomForestClassifier(n_estimators=100, random_state=1)\n",
    "\n",
    "# Fit\n",
    "brfc.fit(X_train, y_train)\n",
    "print(X_train.shape)"
   ]
  },
  {
   "cell_type": "code",
   "execution_count": 28,
   "metadata": {
    "colab": {
     "base_uri": "https://localhost:8080/"
    },
    "id": "p67QTFovscfR",
    "outputId": "e7b15cbb-0ca2-40c0-8fb8-4954c37883c5"
   },
   "outputs": [
    {
     "data": {
      "text/plain": [
       "0.703975765555825"
      ]
     },
     "execution_count": 28,
     "metadata": {},
     "output_type": "execute_result"
    }
   ],
   "source": [
    "# Calculated the balanced accuracy score\n",
    "# YOUR CODE HERE\n",
    "y_pred = brfc.predict(X_test)\n",
    "balanced_accuracy_score(y_test, y_pred)"
   ]
  },
  {
   "cell_type": "code",
   "execution_count": 30,
   "metadata": {
    "colab": {
     "base_uri": "https://localhost:8080/"
    },
    "id": "ROrHYV-4sqFi",
    "outputId": "123d517c-6ab3-4d67-9c57-24fd567b883b"
   },
   "outputs": [
    {
     "data": {
      "text/plain": [
       "array([[35894, 15276],\n",
       "       [ 1688,  4063]], dtype=int64)"
      ]
     },
     "execution_count": 30,
     "metadata": {},
     "output_type": "execute_result"
    }
   ],
   "source": [
    "#Calculate confusion matrix\n",
    "cm = confusion_matrix(y_test, y_pred)\n",
    "cm"
   ]
  },
  {
   "cell_type": "code",
   "execution_count": 31,
   "metadata": {},
   "outputs": [
    {
     "data": {
      "text/html": [
       "<div>\n",
       "<style scoped>\n",
       "    .dataframe tbody tr th:only-of-type {\n",
       "        vertical-align: middle;\n",
       "    }\n",
       "\n",
       "    .dataframe tbody tr th {\n",
       "        vertical-align: top;\n",
       "    }\n",
       "\n",
       "    .dataframe thead th {\n",
       "        text-align: right;\n",
       "    }\n",
       "</style>\n",
       "<table border=\"1\" class=\"dataframe\">\n",
       "  <thead>\n",
       "    <tr style=\"text-align: right;\">\n",
       "      <th></th>\n",
       "      <th>Predcited_No goal)</th>\n",
       "      <th>Predicted goal</th>\n",
       "    </tr>\n",
       "  </thead>\n",
       "  <tbody>\n",
       "    <tr>\n",
       "      <th>Actual No Goal</th>\n",
       "      <td>35894</td>\n",
       "      <td>15276</td>\n",
       "    </tr>\n",
       "    <tr>\n",
       "      <th>Actual goal</th>\n",
       "      <td>1688</td>\n",
       "      <td>4063</td>\n",
       "    </tr>\n",
       "  </tbody>\n",
       "</table>\n",
       "</div>"
      ],
      "text/plain": [
       "                Predcited_No goal)  Predicted goal\n",
       "Actual No Goal               35894           15276\n",
       "Actual goal                   1688            4063"
      ]
     },
     "execution_count": 31,
     "metadata": {},
     "output_type": "execute_result"
    }
   ],
   "source": [
    "cm_df = pd.DataFrame(\n",
    "    cm, index=[\"Actual No Goal\", \"Actual goal\"], columns=[\"Predcited_No goal)\", \"Predicted goal\"])\n",
    "cm_df"
   ]
  },
  {
   "cell_type": "code",
   "execution_count": 32,
   "metadata": {
    "colab": {
     "base_uri": "https://localhost:8080/"
    },
    "id": "ZiaMp1Zssck4",
    "outputId": "955ab520-e82e-4bc6-ee57-237ab343343b"
   },
   "outputs": [
    {
     "name": "stdout",
     "output_type": "stream",
     "text": [
      "                   pre       rec       spe        f1       geo       iba       sup\n",
      "\n",
      "          0       0.96      0.70      0.71      0.81      0.70      0.50     51170\n",
      "          1       0.21      0.71      0.70      0.32      0.70      0.50      5751\n",
      "\n",
      "avg / total       0.88      0.70      0.71      0.76      0.70      0.50     56921\n",
      "\n"
     ]
    }
   ],
   "source": [
    "# Print the imbalanced classification report\n",
    "\n",
    "print(classification_report_imbalanced(y_test, y_pred))"
   ]
  },
  {
   "cell_type": "code",
   "execution_count": 33,
   "metadata": {
    "colab": {
     "base_uri": "https://localhost:8080/"
    },
    "id": "oIvN2NsUuBU6",
    "outputId": "0d847c3a-c4bd-4b75-967f-f00332c8166d"
   },
   "outputs": [
    {
     "name": "stdout",
     "output_type": "stream",
     "text": [
      "time: (0.4344229051888649)\n",
      "location: (0.38269743095724157)\n",
      "assist_method: (0.05916741599568484)\n",
      "situation: (0.059028980330022865)\n",
      "fast_break: (0.03119322732190283)\n",
      "bodypart: (0.022688921218904104)\n",
      "side: (0.010801118987378915)\n"
     ]
    }
   ],
   "source": [
    "# List the features sorted in descending order by feature importance\n",
    "\n",
    "features_rank = sorted(zip(brfc.feature_importances_, X.columns), reverse=True)\n",
    "for feature in features_rank:\n",
    "    print(f\"{feature[1]}: ({feature[0]})\")"
   ]
  },
  {
   "cell_type": "code",
   "execution_count": 35,
   "metadata": {},
   "outputs": [],
   "source": [
    "#easy Ensemble AdaBoost Classifier\n",
    "from imblearn.ensemble import EasyEnsembleClassifier\n"
   ]
  },
  {
   "cell_type": "code",
   "execution_count": 36,
   "metadata": {},
   "outputs": [
    {
     "name": "stdout",
     "output_type": "stream",
     "text": [
      "Collecting scikit-learn==1.0Note: you may need to restart the kernel to use updated packages.\n",
      "  Downloading scikit_learn-1.0-cp39-cp39-win_amd64.whl (7.2 MB)\n",
      "Requirement already satisfied: threadpoolctl>=2.0.0 in c:\\users\\gotar\\anaconda3\\lib\\site-packages (from scikit-learn==1.0) (2.2.0)\n",
      "Requirement already satisfied: numpy>=1.14.6 in c:\\users\\gotar\\anaconda3\\lib\\site-packages (from scikit-learn==1.0) (1.20.3)\n",
      "Requirement already satisfied: joblib>=0.11 in c:\\users\\gotar\\anaconda3\\lib\\site-packages (from scikit-learn==1.0) (1.1.0)\n",
      "Requirement already satisfied: scipy>=1.1.0 in c:\\users\\gotar\\anaconda3\\lib\\site-packages (from scikit-learn==1.0) (1.7.1)\n",
      "Installing collected packages: scikit-learn\n",
      "  Attempting uninstall: scikit-learn\n",
      "    Found existing installation: scikit-learn 1.1.1\n",
      "    Uninstalling scikit-learn-1.1.1:\n",
      "      Successfully uninstalled scikit-learn-1.1.1\n",
      "\n"
     ]
    },
    {
     "name": "stderr",
     "output_type": "stream",
     "text": [
      "ERROR: Could not install packages due to an OSError: [WinError 5] Access is denied: 'C:\\\\Users\\\\gotar\\\\anaconda3\\\\Lib\\\\site-packages\\\\~klearn\\\\.libs\\\\vcomp140.dll'\n",
      "Consider using the `--user` option or check the permissions.\n",
      "\n"
     ]
    }
   ],
   "source": [
    "pip install scikit-learn==1.0 -U"
   ]
  },
  {
   "cell_type": "code",
   "execution_count": 37,
   "metadata": {},
   "outputs": [
    {
     "data": {
      "text/html": [
       "<style>#sk-container-id-1 {color: black;background-color: white;}#sk-container-id-1 pre{padding: 0;}#sk-container-id-1 div.sk-toggleable {background-color: white;}#sk-container-id-1 label.sk-toggleable__label {cursor: pointer;display: block;width: 100%;margin-bottom: 0;padding: 0.3em;box-sizing: border-box;text-align: center;}#sk-container-id-1 label.sk-toggleable__label-arrow:before {content: \"▸\";float: left;margin-right: 0.25em;color: #696969;}#sk-container-id-1 label.sk-toggleable__label-arrow:hover:before {color: black;}#sk-container-id-1 div.sk-estimator:hover label.sk-toggleable__label-arrow:before {color: black;}#sk-container-id-1 div.sk-toggleable__content {max-height: 0;max-width: 0;overflow: hidden;text-align: left;background-color: #f0f8ff;}#sk-container-id-1 div.sk-toggleable__content pre {margin: 0.2em;color: black;border-radius: 0.25em;background-color: #f0f8ff;}#sk-container-id-1 input.sk-toggleable__control:checked~div.sk-toggleable__content {max-height: 200px;max-width: 100%;overflow: auto;}#sk-container-id-1 input.sk-toggleable__control:checked~label.sk-toggleable__label-arrow:before {content: \"▾\";}#sk-container-id-1 div.sk-estimator input.sk-toggleable__control:checked~label.sk-toggleable__label {background-color: #d4ebff;}#sk-container-id-1 div.sk-label input.sk-toggleable__control:checked~label.sk-toggleable__label {background-color: #d4ebff;}#sk-container-id-1 input.sk-hidden--visually {border: 0;clip: rect(1px 1px 1px 1px);clip: rect(1px, 1px, 1px, 1px);height: 1px;margin: -1px;overflow: hidden;padding: 0;position: absolute;width: 1px;}#sk-container-id-1 div.sk-estimator {font-family: monospace;background-color: #f0f8ff;border: 1px dotted black;border-radius: 0.25em;box-sizing: border-box;margin-bottom: 0.5em;}#sk-container-id-1 div.sk-estimator:hover {background-color: #d4ebff;}#sk-container-id-1 div.sk-parallel-item::after {content: \"\";width: 100%;border-bottom: 1px solid gray;flex-grow: 1;}#sk-container-id-1 div.sk-label:hover label.sk-toggleable__label {background-color: #d4ebff;}#sk-container-id-1 div.sk-serial::before {content: \"\";position: absolute;border-left: 1px solid gray;box-sizing: border-box;top: 0;bottom: 0;left: 50%;z-index: 0;}#sk-container-id-1 div.sk-serial {display: flex;flex-direction: column;align-items: center;background-color: white;padding-right: 0.2em;padding-left: 0.2em;position: relative;}#sk-container-id-1 div.sk-item {position: relative;z-index: 1;}#sk-container-id-1 div.sk-parallel {display: flex;align-items: stretch;justify-content: center;background-color: white;position: relative;}#sk-container-id-1 div.sk-item::before, #sk-container-id-1 div.sk-parallel-item::before {content: \"\";position: absolute;border-left: 1px solid gray;box-sizing: border-box;top: 0;bottom: 0;left: 50%;z-index: -1;}#sk-container-id-1 div.sk-parallel-item {display: flex;flex-direction: column;z-index: 1;position: relative;background-color: white;}#sk-container-id-1 div.sk-parallel-item:first-child::after {align-self: flex-end;width: 50%;}#sk-container-id-1 div.sk-parallel-item:last-child::after {align-self: flex-start;width: 50%;}#sk-container-id-1 div.sk-parallel-item:only-child::after {width: 0;}#sk-container-id-1 div.sk-dashed-wrapped {border: 1px dashed gray;margin: 0 0.4em 0.5em 0.4em;box-sizing: border-box;padding-bottom: 0.4em;background-color: white;}#sk-container-id-1 div.sk-label label {font-family: monospace;font-weight: bold;display: inline-block;line-height: 1.2em;}#sk-container-id-1 div.sk-label-container {text-align: center;}#sk-container-id-1 div.sk-container {/* jupyter's `normalize.less` sets `[hidden] { display: none; }` but bootstrap.min.css set `[hidden] { display: none !important; }` so we also need the `!important` here to be able to override the default hidden behavior on the sphinx rendered scikit-learn.org. See: https://github.com/scikit-learn/scikit-learn/issues/21755 */display: inline-block !important;position: relative;}#sk-container-id-1 div.sk-text-repr-fallback {display: none;}</style><div id=\"sk-container-id-1\" class=\"sk-top-container\"><div class=\"sk-text-repr-fallback\"><pre>EasyEnsembleClassifier(n_estimators=100, random_state=1)</pre><b>In a Jupyter environment, please rerun this cell to show the HTML representation or trust the notebook. <br />On GitHub, the HTML representation is unable to render, please try loading this page with nbviewer.org.</b></div><div class=\"sk-container\" hidden><div class=\"sk-item\"><div class=\"sk-estimator sk-toggleable\"><input class=\"sk-toggleable__control sk-hidden--visually\" id=\"sk-estimator-id-1\" type=\"checkbox\" checked><label for=\"sk-estimator-id-1\" class=\"sk-toggleable__label sk-toggleable__label-arrow\">EasyEnsembleClassifier</label><div class=\"sk-toggleable__content\"><pre>EasyEnsembleClassifier(n_estimators=100, random_state=1)</pre></div></div></div></div></div>"
      ],
      "text/plain": [
       "EasyEnsembleClassifier(n_estimators=100, random_state=1)"
      ]
     },
     "execution_count": 37,
     "metadata": {},
     "output_type": "execute_result"
    }
   ],
   "source": [
    "# Train the EasyEnsembleClassifier\n",
    "# YOUR CODE HERE\n",
    "eec = EasyEnsembleClassifier(n_estimators=100, random_state=1)\n",
    "eec.fit(X_train, y_train)"
   ]
  },
  {
   "cell_type": "code",
   "execution_count": 38,
   "metadata": {},
   "outputs": [
    {
     "data": {
      "text/plain": [
       "0.7303629311631727"
      ]
     },
     "execution_count": 38,
     "metadata": {},
     "output_type": "execute_result"
    }
   ],
   "source": [
    "# Calculated the balanced accuracy score\n",
    "# YOUR CODE HERE\n",
    "y_pred = eec.predict(X_test)\n",
    "balanced_accuracy_score(y_test, y_pred)"
   ]
  },
  {
   "cell_type": "code",
   "execution_count": 40,
   "metadata": {},
   "outputs": [
    {
     "data": {
      "text/plain": [
       "array([[36984, 14186],\n",
       "       [ 1507,  4244]], dtype=int64)"
      ]
     },
     "execution_count": 40,
     "metadata": {},
     "output_type": "execute_result"
    }
   ],
   "source": [
    "cm = confusion_matrix(y_test, y_pred)\n",
    "cm"
   ]
  },
  {
   "cell_type": "code",
   "execution_count": 41,
   "metadata": {},
   "outputs": [
    {
     "name": "stdout",
     "output_type": "stream",
     "text": [
      "                   pre       rec       spe        f1       geo       iba       sup\n",
      "\n",
      "          0       0.96      0.72      0.74      0.82      0.73      0.53     51170\n",
      "          1       0.23      0.74      0.72      0.35      0.73      0.53      5751\n",
      "\n",
      "avg / total       0.89      0.72      0.74      0.78      0.73      0.53     56921\n",
      "\n"
     ]
    }
   ],
   "source": [
    "# Print the imbalanced classification report\n",
    "# YOUR CODE HERE\n",
    "print(classification_report_imbalanced(y_test, y_pred))"
   ]
  },
  {
   "cell_type": "code",
   "execution_count": null,
   "metadata": {},
   "outputs": [],
   "source": []
  }
 ],
 "metadata": {
  "colab": {
   "collapsed_sections": [],
   "name": "ML_ensemble.ipynb",
   "provenance": []
  },
  "kernelspec": {
   "display_name": "Python 3 (ipykernel)",
   "language": "python",
   "name": "python3"
  },
  "language_info": {
   "codemirror_mode": {
    "name": "ipython",
    "version": 3
   },
   "file_extension": ".py",
   "mimetype": "text/x-python",
   "name": "python",
   "nbconvert_exporter": "python",
   "pygments_lexer": "ipython3",
   "version": "3.9.7"
  }
 },
 "nbformat": 4,
 "nbformat_minor": 1
}
