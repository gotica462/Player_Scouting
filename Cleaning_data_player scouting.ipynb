{
 "cells": [
  {
   "cell_type": "code",
   "execution_count": 8,
   "metadata": {
    "id": "erOXhn2sPvy4"
   },
   "outputs": [],
   "source": [
    "#Import our dependencies\n",
    "\n",
    "import zipfile\n",
    "%matplotlib inline \n",
    "import numpy as np \n",
    "import scipy as sp \n",
    "import matplotlib as mpl\n",
    "import matplotlib.cm as cm \n",
    "import matplotlib.pyplot as plt\n",
    "import pandas as pd \n",
    "import sklearn\n",
    "import seaborn as sns\n",
    "\n",
    "import os\n",
    "import warnings\n",
    "from collections import Counter\n",
    "warnings.filterwarnings('ignore')"
   ]
  },
  {
   "cell_type": "code",
   "execution_count": 9,
   "metadata": {
    "colab": {
     "base_uri": "https://localhost:8080/"
    },
    "id": "_ibmaAGLR1TM",
    "outputId": "4b7d32f2-36ea-4e0a-a8fc-2256935dff65"
   },
   "outputs": [
    {
     "name": "stdout",
     "output_type": "stream",
     "text": [
      "Requirement already satisfied: imblearn in c:\\users\\gotar\\anaconda3\\lib\\site-packages (0.0)\n",
      "Requirement already satisfied: imbalanced-learn in c:\\users\\gotar\\anaconda3\\lib\\site-packages (from imblearn) (0.9.1)\n",
      "Requirement already satisfied: scipy>=1.3.2 in c:\\users\\gotar\\anaconda3\\lib\\site-packages (from imbalanced-learn->imblearn) (1.7.1)\n",
      "Requirement already satisfied: threadpoolctl>=2.0.0 in c:\\users\\gotar\\anaconda3\\lib\\site-packages (from imbalanced-learn->imblearn) (2.2.0)\n",
      "Requirement already satisfied: scikit-learn>=1.1.0 in c:\\users\\gotar\\anaconda3\\lib\\site-packages (from imbalanced-learn->imblearn) (1.1.1)\n",
      "Requirement already satisfied: numpy>=1.17.3 in c:\\users\\gotar\\anaconda3\\lib\\site-packages (from imbalanced-learn->imblearn) (1.20.3)\n",
      "Requirement already satisfied: joblib>=1.0.0 in c:\\users\\gotar\\anaconda3\\lib\\site-packages (from imbalanced-learn->imblearn) (1.1.0)\n",
      "Note: you may need to restart the kernel to use updated packages.\n"
     ]
    }
   ],
   "source": [
    "pip install imblearn"
   ]
  },
  {
   "cell_type": "code",
   "execution_count": 10,
   "metadata": {
    "id": "NpjvT1WfRi6M"
   },
   "outputs": [],
   "source": [
    "from sklearn.metrics import balanced_accuracy_score\n",
    "from sklearn.metrics import confusion_matrix\n",
    "from imblearn.metrics import classification_report_imbalanced"
   ]
  },
  {
   "cell_type": "code",
   "execution_count": 11,
   "metadata": {},
   "outputs": [],
   "source": [
    "# Establish our path\n",
    "events = os.path.join(\"Resources\", \"events.csv\")"
   ]
  },
  {
   "cell_type": "code",
   "execution_count": 12,
   "metadata": {},
   "outputs": [
    {
     "data": {
      "text/html": [
       "<div>\n",
       "<style scoped>\n",
       "    .dataframe tbody tr th:only-of-type {\n",
       "        vertical-align: middle;\n",
       "    }\n",
       "\n",
       "    .dataframe tbody tr th {\n",
       "        vertical-align: top;\n",
       "    }\n",
       "\n",
       "    .dataframe thead th {\n",
       "        text-align: right;\n",
       "    }\n",
       "</style>\n",
       "<table border=\"1\" class=\"dataframe\">\n",
       "  <thead>\n",
       "    <tr style=\"text-align: right;\">\n",
       "      <th></th>\n",
       "      <th>id_odsp</th>\n",
       "      <th>id_event</th>\n",
       "      <th>sort_order</th>\n",
       "      <th>time</th>\n",
       "      <th>text</th>\n",
       "      <th>event_type</th>\n",
       "      <th>event_type2</th>\n",
       "      <th>side</th>\n",
       "      <th>event_team</th>\n",
       "      <th>opponent</th>\n",
       "      <th>...</th>\n",
       "      <th>player_in</th>\n",
       "      <th>player_out</th>\n",
       "      <th>shot_place</th>\n",
       "      <th>shot_outcome</th>\n",
       "      <th>is_goal</th>\n",
       "      <th>location</th>\n",
       "      <th>bodypart</th>\n",
       "      <th>assist_method</th>\n",
       "      <th>situation</th>\n",
       "      <th>fast_break</th>\n",
       "    </tr>\n",
       "  </thead>\n",
       "  <tbody>\n",
       "    <tr>\n",
       "      <th>0</th>\n",
       "      <td>UFot0hit/</td>\n",
       "      <td>UFot0hit1</td>\n",
       "      <td>1</td>\n",
       "      <td>2</td>\n",
       "      <td>Attempt missed. Mladen Petric (Hamburg) left f...</td>\n",
       "      <td>1</td>\n",
       "      <td>12.0</td>\n",
       "      <td>2</td>\n",
       "      <td>Hamburg SV</td>\n",
       "      <td>Borussia Dortmund</td>\n",
       "      <td>...</td>\n",
       "      <td>NaN</td>\n",
       "      <td>NaN</td>\n",
       "      <td>6.0</td>\n",
       "      <td>2.0</td>\n",
       "      <td>0</td>\n",
       "      <td>9.0</td>\n",
       "      <td>2.0</td>\n",
       "      <td>1</td>\n",
       "      <td>1.0</td>\n",
       "      <td>0</td>\n",
       "    </tr>\n",
       "    <tr>\n",
       "      <th>1</th>\n",
       "      <td>UFot0hit/</td>\n",
       "      <td>UFot0hit2</td>\n",
       "      <td>2</td>\n",
       "      <td>4</td>\n",
       "      <td>Corner,  Borussia Dortmund. Conceded by Dennis...</td>\n",
       "      <td>2</td>\n",
       "      <td>NaN</td>\n",
       "      <td>1</td>\n",
       "      <td>Borussia Dortmund</td>\n",
       "      <td>Hamburg SV</td>\n",
       "      <td>...</td>\n",
       "      <td>NaN</td>\n",
       "      <td>NaN</td>\n",
       "      <td>NaN</td>\n",
       "      <td>NaN</td>\n",
       "      <td>0</td>\n",
       "      <td>NaN</td>\n",
       "      <td>NaN</td>\n",
       "      <td>0</td>\n",
       "      <td>NaN</td>\n",
       "      <td>0</td>\n",
       "    </tr>\n",
       "    <tr>\n",
       "      <th>2</th>\n",
       "      <td>UFot0hit/</td>\n",
       "      <td>UFot0hit3</td>\n",
       "      <td>3</td>\n",
       "      <td>4</td>\n",
       "      <td>Corner,  Borussia Dortmund. Conceded by Heiko ...</td>\n",
       "      <td>2</td>\n",
       "      <td>NaN</td>\n",
       "      <td>1</td>\n",
       "      <td>Borussia Dortmund</td>\n",
       "      <td>Hamburg SV</td>\n",
       "      <td>...</td>\n",
       "      <td>NaN</td>\n",
       "      <td>NaN</td>\n",
       "      <td>NaN</td>\n",
       "      <td>NaN</td>\n",
       "      <td>0</td>\n",
       "      <td>NaN</td>\n",
       "      <td>NaN</td>\n",
       "      <td>0</td>\n",
       "      <td>NaN</td>\n",
       "      <td>0</td>\n",
       "    </tr>\n",
       "    <tr>\n",
       "      <th>3</th>\n",
       "      <td>UFot0hit/</td>\n",
       "      <td>UFot0hit4</td>\n",
       "      <td>4</td>\n",
       "      <td>7</td>\n",
       "      <td>Foul by Sven Bender (Borussia Dortmund).</td>\n",
       "      <td>3</td>\n",
       "      <td>NaN</td>\n",
       "      <td>1</td>\n",
       "      <td>Borussia Dortmund</td>\n",
       "      <td>Hamburg SV</td>\n",
       "      <td>...</td>\n",
       "      <td>NaN</td>\n",
       "      <td>NaN</td>\n",
       "      <td>NaN</td>\n",
       "      <td>NaN</td>\n",
       "      <td>0</td>\n",
       "      <td>NaN</td>\n",
       "      <td>NaN</td>\n",
       "      <td>0</td>\n",
       "      <td>NaN</td>\n",
       "      <td>0</td>\n",
       "    </tr>\n",
       "    <tr>\n",
       "      <th>4</th>\n",
       "      <td>UFot0hit/</td>\n",
       "      <td>UFot0hit5</td>\n",
       "      <td>5</td>\n",
       "      <td>7</td>\n",
       "      <td>Gokhan Tore (Hamburg) wins a free kick in the ...</td>\n",
       "      <td>8</td>\n",
       "      <td>NaN</td>\n",
       "      <td>2</td>\n",
       "      <td>Hamburg SV</td>\n",
       "      <td>Borussia Dortmund</td>\n",
       "      <td>...</td>\n",
       "      <td>NaN</td>\n",
       "      <td>NaN</td>\n",
       "      <td>NaN</td>\n",
       "      <td>NaN</td>\n",
       "      <td>0</td>\n",
       "      <td>2.0</td>\n",
       "      <td>NaN</td>\n",
       "      <td>0</td>\n",
       "      <td>NaN</td>\n",
       "      <td>0</td>\n",
       "    </tr>\n",
       "    <tr>\n",
       "      <th>...</th>\n",
       "      <td>...</td>\n",
       "      <td>...</td>\n",
       "      <td>...</td>\n",
       "      <td>...</td>\n",
       "      <td>...</td>\n",
       "      <td>...</td>\n",
       "      <td>...</td>\n",
       "      <td>...</td>\n",
       "      <td>...</td>\n",
       "      <td>...</td>\n",
       "      <td>...</td>\n",
       "      <td>...</td>\n",
       "      <td>...</td>\n",
       "      <td>...</td>\n",
       "      <td>...</td>\n",
       "      <td>...</td>\n",
       "      <td>...</td>\n",
       "      <td>...</td>\n",
       "      <td>...</td>\n",
       "      <td>...</td>\n",
       "      <td>...</td>\n",
       "    </tr>\n",
       "    <tr>\n",
       "      <th>941003</th>\n",
       "      <td>z5L2OT5E/</td>\n",
       "      <td>z5L2OT5E123</td>\n",
       "      <td>123</td>\n",
       "      <td>92</td>\n",
       "      <td>Lucas Torreira (Sampdoria) wins a free kick in...</td>\n",
       "      <td>8</td>\n",
       "      <td>NaN</td>\n",
       "      <td>2</td>\n",
       "      <td>Sampdoria</td>\n",
       "      <td>Atalanta</td>\n",
       "      <td>...</td>\n",
       "      <td>NaN</td>\n",
       "      <td>NaN</td>\n",
       "      <td>NaN</td>\n",
       "      <td>NaN</td>\n",
       "      <td>0</td>\n",
       "      <td>2.0</td>\n",
       "      <td>NaN</td>\n",
       "      <td>0</td>\n",
       "      <td>NaN</td>\n",
       "      <td>0</td>\n",
       "    </tr>\n",
       "    <tr>\n",
       "      <th>941004</th>\n",
       "      <td>z5L2OT5E/</td>\n",
       "      <td>z5L2OT5E124</td>\n",
       "      <td>124</td>\n",
       "      <td>93</td>\n",
       "      <td>Corner,  Sampdoria. Conceded by Andrea Masiello.</td>\n",
       "      <td>2</td>\n",
       "      <td>NaN</td>\n",
       "      <td>2</td>\n",
       "      <td>Sampdoria</td>\n",
       "      <td>Atalanta</td>\n",
       "      <td>...</td>\n",
       "      <td>NaN</td>\n",
       "      <td>NaN</td>\n",
       "      <td>NaN</td>\n",
       "      <td>NaN</td>\n",
       "      <td>0</td>\n",
       "      <td>NaN</td>\n",
       "      <td>NaN</td>\n",
       "      <td>0</td>\n",
       "      <td>NaN</td>\n",
       "      <td>0</td>\n",
       "    </tr>\n",
       "    <tr>\n",
       "      <th>941005</th>\n",
       "      <td>z5L2OT5E/</td>\n",
       "      <td>z5L2OT5E125</td>\n",
       "      <td>125</td>\n",
       "      <td>93</td>\n",
       "      <td>Attempt missed. Fabio Quagliarella (Sampdoria)...</td>\n",
       "      <td>1</td>\n",
       "      <td>12.0</td>\n",
       "      <td>2</td>\n",
       "      <td>Sampdoria</td>\n",
       "      <td>Atalanta</td>\n",
       "      <td>...</td>\n",
       "      <td>NaN</td>\n",
       "      <td>NaN</td>\n",
       "      <td>8.0</td>\n",
       "      <td>2.0</td>\n",
       "      <td>0</td>\n",
       "      <td>9.0</td>\n",
       "      <td>1.0</td>\n",
       "      <td>1</td>\n",
       "      <td>3.0</td>\n",
       "      <td>0</td>\n",
       "    </tr>\n",
       "    <tr>\n",
       "      <th>941006</th>\n",
       "      <td>z5L2OT5E/</td>\n",
       "      <td>z5L2OT5E126</td>\n",
       "      <td>126</td>\n",
       "      <td>94</td>\n",
       "      <td>Alberto Grassi (Atalanta) wins a free kick on ...</td>\n",
       "      <td>8</td>\n",
       "      <td>NaN</td>\n",
       "      <td>1</td>\n",
       "      <td>Atalanta</td>\n",
       "      <td>Sampdoria</td>\n",
       "      <td>...</td>\n",
       "      <td>NaN</td>\n",
       "      <td>NaN</td>\n",
       "      <td>NaN</td>\n",
       "      <td>NaN</td>\n",
       "      <td>0</td>\n",
       "      <td>4.0</td>\n",
       "      <td>NaN</td>\n",
       "      <td>0</td>\n",
       "      <td>NaN</td>\n",
       "      <td>0</td>\n",
       "    </tr>\n",
       "    <tr>\n",
       "      <th>941007</th>\n",
       "      <td>z5L2OT5E/</td>\n",
       "      <td>z5L2OT5E127</td>\n",
       "      <td>127</td>\n",
       "      <td>94</td>\n",
       "      <td>Foul by Pedro Pereira (Sampdoria).</td>\n",
       "      <td>3</td>\n",
       "      <td>NaN</td>\n",
       "      <td>2</td>\n",
       "      <td>Sampdoria</td>\n",
       "      <td>Atalanta</td>\n",
       "      <td>...</td>\n",
       "      <td>NaN</td>\n",
       "      <td>NaN</td>\n",
       "      <td>NaN</td>\n",
       "      <td>NaN</td>\n",
       "      <td>0</td>\n",
       "      <td>NaN</td>\n",
       "      <td>NaN</td>\n",
       "      <td>0</td>\n",
       "      <td>NaN</td>\n",
       "      <td>0</td>\n",
       "    </tr>\n",
       "  </tbody>\n",
       "</table>\n",
       "<p>941008 rows × 22 columns</p>\n",
       "</div>"
      ],
      "text/plain": [
       "          id_odsp     id_event  sort_order  time  \\\n",
       "0       UFot0hit/    UFot0hit1           1     2   \n",
       "1       UFot0hit/    UFot0hit2           2     4   \n",
       "2       UFot0hit/    UFot0hit3           3     4   \n",
       "3       UFot0hit/    UFot0hit4           4     7   \n",
       "4       UFot0hit/    UFot0hit5           5     7   \n",
       "...           ...          ...         ...   ...   \n",
       "941003  z5L2OT5E/  z5L2OT5E123         123    92   \n",
       "941004  z5L2OT5E/  z5L2OT5E124         124    93   \n",
       "941005  z5L2OT5E/  z5L2OT5E125         125    93   \n",
       "941006  z5L2OT5E/  z5L2OT5E126         126    94   \n",
       "941007  z5L2OT5E/  z5L2OT5E127         127    94   \n",
       "\n",
       "                                                     text  event_type  \\\n",
       "0       Attempt missed. Mladen Petric (Hamburg) left f...           1   \n",
       "1       Corner,  Borussia Dortmund. Conceded by Dennis...           2   \n",
       "2       Corner,  Borussia Dortmund. Conceded by Heiko ...           2   \n",
       "3                Foul by Sven Bender (Borussia Dortmund).           3   \n",
       "4       Gokhan Tore (Hamburg) wins a free kick in the ...           8   \n",
       "...                                                   ...         ...   \n",
       "941003  Lucas Torreira (Sampdoria) wins a free kick in...           8   \n",
       "941004   Corner,  Sampdoria. Conceded by Andrea Masiello.           2   \n",
       "941005  Attempt missed. Fabio Quagliarella (Sampdoria)...           1   \n",
       "941006  Alberto Grassi (Atalanta) wins a free kick on ...           8   \n",
       "941007                 Foul by Pedro Pereira (Sampdoria).           3   \n",
       "\n",
       "        event_type2  side         event_team           opponent  ...  \\\n",
       "0              12.0     2         Hamburg SV  Borussia Dortmund  ...   \n",
       "1               NaN     1  Borussia Dortmund         Hamburg SV  ...   \n",
       "2               NaN     1  Borussia Dortmund         Hamburg SV  ...   \n",
       "3               NaN     1  Borussia Dortmund         Hamburg SV  ...   \n",
       "4               NaN     2         Hamburg SV  Borussia Dortmund  ...   \n",
       "...             ...   ...                ...                ...  ...   \n",
       "941003          NaN     2          Sampdoria           Atalanta  ...   \n",
       "941004          NaN     2          Sampdoria           Atalanta  ...   \n",
       "941005         12.0     2          Sampdoria           Atalanta  ...   \n",
       "941006          NaN     1           Atalanta          Sampdoria  ...   \n",
       "941007          NaN     2          Sampdoria           Atalanta  ...   \n",
       "\n",
       "       player_in player_out shot_place shot_outcome  is_goal  location  \\\n",
       "0            NaN        NaN        6.0          2.0        0       9.0   \n",
       "1            NaN        NaN        NaN          NaN        0       NaN   \n",
       "2            NaN        NaN        NaN          NaN        0       NaN   \n",
       "3            NaN        NaN        NaN          NaN        0       NaN   \n",
       "4            NaN        NaN        NaN          NaN        0       2.0   \n",
       "...          ...        ...        ...          ...      ...       ...   \n",
       "941003       NaN        NaN        NaN          NaN        0       2.0   \n",
       "941004       NaN        NaN        NaN          NaN        0       NaN   \n",
       "941005       NaN        NaN        8.0          2.0        0       9.0   \n",
       "941006       NaN        NaN        NaN          NaN        0       4.0   \n",
       "941007       NaN        NaN        NaN          NaN        0       NaN   \n",
       "\n",
       "        bodypart  assist_method  situation  fast_break  \n",
       "0            2.0              1        1.0           0  \n",
       "1            NaN              0        NaN           0  \n",
       "2            NaN              0        NaN           0  \n",
       "3            NaN              0        NaN           0  \n",
       "4            NaN              0        NaN           0  \n",
       "...          ...            ...        ...         ...  \n",
       "941003       NaN              0        NaN           0  \n",
       "941004       NaN              0        NaN           0  \n",
       "941005       1.0              1        3.0           0  \n",
       "941006       NaN              0        NaN           0  \n",
       "941007       NaN              0        NaN           0  \n",
       "\n",
       "[941008 rows x 22 columns]"
      ]
     },
     "execution_count": 12,
     "metadata": {},
     "output_type": "execute_result"
    }
   ],
   "source": [
    "#Creata our Dataframe\n",
    "events_df = pd.read_csv(events)\n",
    "events_df"
   ]
  },
  {
   "cell_type": "code",
   "execution_count": 13,
   "metadata": {
    "colab": {
     "base_uri": "https://localhost:8080/"
    },
    "id": "SpXmqkXdRUdM",
    "outputId": "7db371fc-0008-4623-9e3c-d2f2d4d537e9"
   },
   "outputs": [
    {
     "name": "stdout",
     "output_type": "stream",
     "text": [
      "<class 'pandas.core.frame.DataFrame'>\n",
      "RangeIndex: 941008 entries, 0 to 941007\n",
      "Data columns (total 22 columns):\n",
      " #   Column         Non-Null Count   Dtype  \n",
      "---  ------         --------------   -----  \n",
      " 0   id_odsp        941008 non-null  object \n",
      " 1   id_event       941008 non-null  object \n",
      " 2   sort_order     941008 non-null  int64  \n",
      " 3   time           941008 non-null  int64  \n",
      " 4   text           941008 non-null  object \n",
      " 5   event_type     941008 non-null  int64  \n",
      " 6   event_type2    214293 non-null  float64\n",
      " 7   side           941008 non-null  int64  \n",
      " 8   event_team     941008 non-null  object \n",
      " 9   opponent       941008 non-null  object \n",
      " 10  player         880009 non-null  object \n",
      " 11  player2        291310 non-null  object \n",
      " 12  player_in      51715 non-null   object \n",
      " 13  player_out     51738 non-null   object \n",
      " 14  shot_place     227458 non-null  float64\n",
      " 15  shot_outcome   228497 non-null  float64\n",
      " 16  is_goal        941008 non-null  int64  \n",
      " 17  location       467066 non-null  float64\n",
      " 18  bodypart       229184 non-null  float64\n",
      " 19  assist_method  941008 non-null  int64  \n",
      " 20  situation      229136 non-null  float64\n",
      " 21  fast_break     941008 non-null  int64  \n",
      "dtypes: float64(6), int64(7), object(9)\n",
      "memory usage: 157.9+ MB\n"
     ]
    }
   ],
   "source": [
    "events_df.info()"
   ]
  },
  {
   "cell_type": "code",
   "execution_count": 14,
   "metadata": {
    "colab": {
     "base_uri": "https://localhost:8080/"
    },
    "id": "YqmXiHl_TKw7",
    "outputId": "f1670c81-19c0-4588-9abf-ecddb8be6a54"
   },
   "outputs": [
    {
     "data": {
      "text/plain": [
       "Index(['id_odsp', 'id_event', 'sort_order', 'time', 'text', 'event_type',\n",
       "       'event_type2', 'side', 'event_team', 'opponent', 'player', 'player2',\n",
       "       'player_in', 'player_out', 'shot_place', 'shot_outcome', 'is_goal',\n",
       "       'location', 'bodypart', 'assist_method', 'situation', 'fast_break'],\n",
       "      dtype='object')"
      ]
     },
     "execution_count": 14,
     "metadata": {},
     "output_type": "execute_result"
    }
   ],
   "source": [
    "#Show data columns\n",
    "\n",
    "events_df.columns"
   ]
  },
  {
   "cell_type": "code",
   "execution_count": 16,
   "metadata": {
    "colab": {
     "base_uri": "https://localhost:8080/"
    },
    "id": "cM1L8gt-TWb0",
    "outputId": "ba34850b-6720-49c1-e262-908de3e595d2"
   },
   "outputs": [
    {
     "data": {
      "text/plain": [
       "array([0, 1], dtype=int64)"
      ]
     },
     "execution_count": 16,
     "metadata": {},
     "output_type": "execute_result"
    }
   ],
   "source": [
    "# Find out the values of the \"is goal column\"\n",
    "events_df[\"is_goal\"].unique()"
   ]
  },
  {
   "cell_type": "code",
   "execution_count": 17,
   "metadata": {
    "colab": {
     "base_uri": "https://localhost:8080/"
    },
    "id": "j5PmofrZTcnE",
    "outputId": "48949805-658b-46f9-bf63-cab6c42b98f4"
   },
   "outputs": [
    {
     "data": {
      "text/plain": [
       "0    916562\n",
       "1     24446\n",
       "Name: is_goal, dtype: int64"
      ]
     },
     "execution_count": 17,
     "metadata": {},
     "output_type": "execute_result"
    }
   ],
   "source": [
    "#find out the count of \"is goal golumn\"\n",
    "events_df[\"is_goal\"].value_counts()"
   ]
  },
  {
   "cell_type": "code",
   "execution_count": 18,
   "metadata": {
    "id": "inpkyo7fgXQ4"
   },
   "outputs": [],
   "source": [
    "# Reading the dictionary data to see what event type are \n",
    "\n",
    "dictionary_text = open('dictionary.txt')"
   ]
  },
  {
   "cell_type": "code",
   "execution_count": 19,
   "metadata": {
    "colab": {
     "base_uri": "https://localhost:8080/",
     "height": 122
    },
    "id": "4UlPI2DsgYeA",
    "outputId": "12f47046-85c5-4071-d77f-7cb443331a25"
   },
   "outputs": [
    {
     "data": {
      "text/plain": [
       "'event_type\\n0\\tAnnouncement\\n1\\tAttempt\\n2\\tCorner\\n3\\tFoul\\n4\\tYellow card\\n5\\tSecond yellow card\\n6\\tRed card\\n7\\tSubstitution\\n8\\tFree kick won\\n9\\tOffside\\n10\\tHand ball\\n11\\tPenalty conceded\\n\\n\\nevent_type2\\n12\\tKey Pass\\n13\\tFailed through ball\\n14\\tSending off\\n15\\tOwn goal\\n\\n\\nside\\n1\\tHome\\n2\\tAway\\n\\n\\nshot_place\\n1\\tBit too high\\n2\\tBlocked\\n3\\tBottom left corner\\n4\\tBottom right corner\\n5\\tCentre of the goal\\n6\\tHigh and wide\\n7\\tHits the bar\\n8\\tMisses to the left\\n9\\tMisses to the right\\n10\\tToo high\\n11\\tTop centre of the goal\\n12\\tTop left corner\\n13\\tTop right corner\\n\\n\\nshot_outcome\\n1\\tOn target\\n2\\tOff target\\n3\\tBlocked\\n4\\tHit the bar\\n\\n\\nlocation\\n1\\tAttacking half\\n2\\tDefensive half\\n3\\tCentre of the box\\n4\\tLeft wing\\n5\\tRight wing\\n6\\tDifficult angle and long range\\n7\\tDifficult angle on the left\\n8\\tDifficult angle on the right\\n9\\tLeft side of the box\\n10\\tLeft side of the six yard box\\n11\\tRight side of the box\\n12\\tRight side of the six yard box\\n13\\tVery close range\\n14\\tPenalty spot\\n15\\tOutside the box\\n16\\tLong range\\n17\\tMore than 35 yards\\n18\\tMore than 40 yards\\n19\\tNot recorded\\n\\n\\nbodypart\\n1\\tright foot\\n2\\tleft foot\\n3\\thead\\n\\n\\nassist_method\\n0\\tNone\\n1\\tPass\\n2\\tCross\\n3\\tHeaded pass\\n4\\tThrough ball\\n\\n\\nsituation\\n1\\tOpen play\\n2\\tSet piece\\n3\\tCorner\\n4\\tFree kick\\n\\n\\n\\n\\n\\n\\n\\n\\n\\n\\n\\n\\n\\n\\n\\n\\n\\n'"
      ]
     },
     "execution_count": 19,
     "metadata": {},
     "output_type": "execute_result"
    }
   ],
   "source": [
    "dictionary_text.read()"
   ]
  },
  {
   "cell_type": "code",
   "execution_count": 20,
   "metadata": {
    "colab": {
     "base_uri": "https://localhost:8080/",
     "height": 424
    },
    "id": "xZdwVxWtgfjf",
    "outputId": "4e35e97d-72eb-4e45-b33f-4f3ee8e9bd74"
   },
   "outputs": [
    {
     "data": {
      "text/html": [
       "<div>\n",
       "<style scoped>\n",
       "    .dataframe tbody tr th:only-of-type {\n",
       "        vertical-align: middle;\n",
       "    }\n",
       "\n",
       "    .dataframe tbody tr th {\n",
       "        vertical-align: top;\n",
       "    }\n",
       "\n",
       "    .dataframe thead th {\n",
       "        text-align: right;\n",
       "    }\n",
       "</style>\n",
       "<table border=\"1\" class=\"dataframe\">\n",
       "  <thead>\n",
       "    <tr style=\"text-align: right;\">\n",
       "      <th></th>\n",
       "      <th>num</th>\n",
       "      <th>events</th>\n",
       "    </tr>\n",
       "  </thead>\n",
       "  <tbody>\n",
       "    <tr>\n",
       "      <th>0</th>\n",
       "      <td>event_type</td>\n",
       "      <td>NaN</td>\n",
       "    </tr>\n",
       "    <tr>\n",
       "      <th>1</th>\n",
       "      <td>0</td>\n",
       "      <td>Announcement</td>\n",
       "    </tr>\n",
       "    <tr>\n",
       "      <th>2</th>\n",
       "      <td>1</td>\n",
       "      <td>Attempt</td>\n",
       "    </tr>\n",
       "    <tr>\n",
       "      <th>3</th>\n",
       "      <td>2</td>\n",
       "      <td>Corner</td>\n",
       "    </tr>\n",
       "    <tr>\n",
       "      <th>4</th>\n",
       "      <td>3</td>\n",
       "      <td>Foul</td>\n",
       "    </tr>\n",
       "    <tr>\n",
       "      <th>...</th>\n",
       "      <td>...</td>\n",
       "      <td>...</td>\n",
       "    </tr>\n",
       "    <tr>\n",
       "      <th>70</th>\n",
       "      <td>situation</td>\n",
       "      <td>NaN</td>\n",
       "    </tr>\n",
       "    <tr>\n",
       "      <th>71</th>\n",
       "      <td>1</td>\n",
       "      <td>Open play</td>\n",
       "    </tr>\n",
       "    <tr>\n",
       "      <th>72</th>\n",
       "      <td>2</td>\n",
       "      <td>Set piece</td>\n",
       "    </tr>\n",
       "    <tr>\n",
       "      <th>73</th>\n",
       "      <td>3</td>\n",
       "      <td>Corner</td>\n",
       "    </tr>\n",
       "    <tr>\n",
       "      <th>74</th>\n",
       "      <td>4</td>\n",
       "      <td>Free kick</td>\n",
       "    </tr>\n",
       "  </tbody>\n",
       "</table>\n",
       "<p>75 rows × 2 columns</p>\n",
       "</div>"
      ],
      "text/plain": [
       "           num        events\n",
       "0   event_type           NaN\n",
       "1            0  Announcement\n",
       "2            1       Attempt\n",
       "3            2        Corner\n",
       "4            3          Foul\n",
       "..         ...           ...\n",
       "70   situation           NaN\n",
       "71           1     Open play\n",
       "72           2     Set piece\n",
       "73           3        Corner\n",
       "74           4     Free kick\n",
       "\n",
       "[75 rows x 2 columns]"
      ]
     },
     "execution_count": 20,
     "metadata": {},
     "output_type": "execute_result"
    }
   ],
   "source": [
    "encoding = pd.read_table('dictionary.txt',  names=('num','events'))\n",
    "encoding"
   ]
  },
  {
   "cell_type": "code",
   "execution_count": 21,
   "metadata": {
    "colab": {
     "base_uri": "https://localhost:8080/"
    },
    "id": "-wjwCaD3gjcO",
    "outputId": "c9a97ebc-8174-4611-dfcf-20446d64c196"
   },
   "outputs": [
    {
     "data": {
      "text/plain": [
       "array([ 1,  2,  3,  8, 10,  7,  9,  4,  6, 11,  5], dtype=int64)"
      ]
     },
     "execution_count": 21,
     "metadata": {},
     "output_type": "execute_result"
    }
   ],
   "source": [
    "## checking the events column\n",
    "events_df[\"event_type\"].unique()"
   ]
  },
  {
   "cell_type": "code",
   "execution_count": 22,
   "metadata": {
    "colab": {
     "base_uri": "https://localhost:8080/"
    },
    "id": "tH-aXzDlh-xh",
    "outputId": "991a7b43-20ae-437b-b7ba-547659602e3a"
   },
   "outputs": [
    {
     "data": {
      "text/plain": [
       "8     237932\n",
       "3     232925\n",
       "1     229134\n",
       "2      91204\n",
       "7      51738\n",
       "9      43476\n",
       "4      39911\n",
       "10     10730\n",
       "11      2706\n",
       "6       1152\n",
       "5        100\n",
       "Name: event_type, dtype: int64"
      ]
     },
     "execution_count": 22,
     "metadata": {},
     "output_type": "execute_result"
    }
   ],
   "source": [
    "#find out the count of \"event_type\"\n",
    "events_df[\"event_type\"].value_counts()"
   ]
  },
  {
   "cell_type": "code",
   "execution_count": 23,
   "metadata": {
    "colab": {
     "base_uri": "https://localhost:8080/",
     "height": 751
    },
    "id": "Sn-FeqXxiKsO",
    "outputId": "a659420a-ecf6-417f-cbe3-1cec74e2e341"
   },
   "outputs": [
    {
     "data": {
      "text/html": [
       "<div>\n",
       "<style scoped>\n",
       "    .dataframe tbody tr th:only-of-type {\n",
       "        vertical-align: middle;\n",
       "    }\n",
       "\n",
       "    .dataframe tbody tr th {\n",
       "        vertical-align: top;\n",
       "    }\n",
       "\n",
       "    .dataframe thead th {\n",
       "        text-align: right;\n",
       "    }\n",
       "</style>\n",
       "<table border=\"1\" class=\"dataframe\">\n",
       "  <thead>\n",
       "    <tr style=\"text-align: right;\">\n",
       "      <th></th>\n",
       "      <th>id_odsp</th>\n",
       "      <th>id_event</th>\n",
       "      <th>sort_order</th>\n",
       "      <th>time</th>\n",
       "      <th>text</th>\n",
       "      <th>event_type</th>\n",
       "      <th>event_type2</th>\n",
       "      <th>side</th>\n",
       "      <th>event_team</th>\n",
       "      <th>opponent</th>\n",
       "      <th>...</th>\n",
       "      <th>player_in</th>\n",
       "      <th>player_out</th>\n",
       "      <th>shot_place</th>\n",
       "      <th>shot_outcome</th>\n",
       "      <th>is_goal</th>\n",
       "      <th>location</th>\n",
       "      <th>bodypart</th>\n",
       "      <th>assist_method</th>\n",
       "      <th>situation</th>\n",
       "      <th>fast_break</th>\n",
       "    </tr>\n",
       "  </thead>\n",
       "  <tbody>\n",
       "    <tr>\n",
       "      <th>0</th>\n",
       "      <td>UFot0hit/</td>\n",
       "      <td>UFot0hit1</td>\n",
       "      <td>1</td>\n",
       "      <td>2</td>\n",
       "      <td>Attempt missed. Mladen Petric (Hamburg) left f...</td>\n",
       "      <td>1</td>\n",
       "      <td>12.0</td>\n",
       "      <td>2</td>\n",
       "      <td>Hamburg SV</td>\n",
       "      <td>Borussia Dortmund</td>\n",
       "      <td>...</td>\n",
       "      <td>NaN</td>\n",
       "      <td>NaN</td>\n",
       "      <td>6.0</td>\n",
       "      <td>2.0</td>\n",
       "      <td>0</td>\n",
       "      <td>9.0</td>\n",
       "      <td>2.0</td>\n",
       "      <td>1</td>\n",
       "      <td>1.0</td>\n",
       "      <td>0</td>\n",
       "    </tr>\n",
       "    <tr>\n",
       "      <th>11</th>\n",
       "      <td>UFot0hit/</td>\n",
       "      <td>UFot0hit12</td>\n",
       "      <td>12</td>\n",
       "      <td>14</td>\n",
       "      <td>Attempt missed. Shinji Kagawa (Borussia Dortmu...</td>\n",
       "      <td>1</td>\n",
       "      <td>12.0</td>\n",
       "      <td>1</td>\n",
       "      <td>Borussia Dortmund</td>\n",
       "      <td>Hamburg SV</td>\n",
       "      <td>...</td>\n",
       "      <td>NaN</td>\n",
       "      <td>NaN</td>\n",
       "      <td>13.0</td>\n",
       "      <td>2.0</td>\n",
       "      <td>0</td>\n",
       "      <td>15.0</td>\n",
       "      <td>1.0</td>\n",
       "      <td>1</td>\n",
       "      <td>1.0</td>\n",
       "      <td>0</td>\n",
       "    </tr>\n",
       "    <tr>\n",
       "      <th>13</th>\n",
       "      <td>UFot0hit/</td>\n",
       "      <td>UFot0hit14</td>\n",
       "      <td>14</td>\n",
       "      <td>17</td>\n",
       "      <td>Goal!  Borussia Dortmund 1, Hamburg 0. Kevin G...</td>\n",
       "      <td>1</td>\n",
       "      <td>12.0</td>\n",
       "      <td>1</td>\n",
       "      <td>Borussia Dortmund</td>\n",
       "      <td>Hamburg SV</td>\n",
       "      <td>...</td>\n",
       "      <td>NaN</td>\n",
       "      <td>NaN</td>\n",
       "      <td>4.0</td>\n",
       "      <td>1.0</td>\n",
       "      <td>1</td>\n",
       "      <td>9.0</td>\n",
       "      <td>2.0</td>\n",
       "      <td>1</td>\n",
       "      <td>1.0</td>\n",
       "      <td>0</td>\n",
       "    </tr>\n",
       "    <tr>\n",
       "      <th>14</th>\n",
       "      <td>UFot0hit/</td>\n",
       "      <td>UFot0hit15</td>\n",
       "      <td>15</td>\n",
       "      <td>19</td>\n",
       "      <td>Attempt blocked. Mats Hummels (Borussia Dortmu...</td>\n",
       "      <td>1</td>\n",
       "      <td>NaN</td>\n",
       "      <td>1</td>\n",
       "      <td>Borussia Dortmund</td>\n",
       "      <td>Hamburg SV</td>\n",
       "      <td>...</td>\n",
       "      <td>NaN</td>\n",
       "      <td>NaN</td>\n",
       "      <td>2.0</td>\n",
       "      <td>3.0</td>\n",
       "      <td>0</td>\n",
       "      <td>15.0</td>\n",
       "      <td>1.0</td>\n",
       "      <td>0</td>\n",
       "      <td>1.0</td>\n",
       "      <td>0</td>\n",
       "    </tr>\n",
       "    <tr>\n",
       "      <th>17</th>\n",
       "      <td>UFot0hit/</td>\n",
       "      <td>UFot0hit18</td>\n",
       "      <td>18</td>\n",
       "      <td>20</td>\n",
       "      <td>Attempt blocked. Tomas Rincon (Hamburg) right ...</td>\n",
       "      <td>1</td>\n",
       "      <td>NaN</td>\n",
       "      <td>2</td>\n",
       "      <td>Hamburg SV</td>\n",
       "      <td>Borussia Dortmund</td>\n",
       "      <td>...</td>\n",
       "      <td>NaN</td>\n",
       "      <td>NaN</td>\n",
       "      <td>2.0</td>\n",
       "      <td>3.0</td>\n",
       "      <td>0</td>\n",
       "      <td>15.0</td>\n",
       "      <td>1.0</td>\n",
       "      <td>0</td>\n",
       "      <td>1.0</td>\n",
       "      <td>0</td>\n",
       "    </tr>\n",
       "  </tbody>\n",
       "</table>\n",
       "<p>5 rows × 22 columns</p>\n",
       "</div>"
      ],
      "text/plain": [
       "      id_odsp    id_event  sort_order  time  \\\n",
       "0   UFot0hit/   UFot0hit1           1     2   \n",
       "11  UFot0hit/  UFot0hit12          12    14   \n",
       "13  UFot0hit/  UFot0hit14          14    17   \n",
       "14  UFot0hit/  UFot0hit15          15    19   \n",
       "17  UFot0hit/  UFot0hit18          18    20   \n",
       "\n",
       "                                                 text  event_type  \\\n",
       "0   Attempt missed. Mladen Petric (Hamburg) left f...           1   \n",
       "11  Attempt missed. Shinji Kagawa (Borussia Dortmu...           1   \n",
       "13  Goal!  Borussia Dortmund 1, Hamburg 0. Kevin G...           1   \n",
       "14  Attempt blocked. Mats Hummels (Borussia Dortmu...           1   \n",
       "17  Attempt blocked. Tomas Rincon (Hamburg) right ...           1   \n",
       "\n",
       "    event_type2  side         event_team           opponent  ... player_in  \\\n",
       "0          12.0     2         Hamburg SV  Borussia Dortmund  ...       NaN   \n",
       "11         12.0     1  Borussia Dortmund         Hamburg SV  ...       NaN   \n",
       "13         12.0     1  Borussia Dortmund         Hamburg SV  ...       NaN   \n",
       "14          NaN     1  Borussia Dortmund         Hamburg SV  ...       NaN   \n",
       "17          NaN     2         Hamburg SV  Borussia Dortmund  ...       NaN   \n",
       "\n",
       "   player_out shot_place shot_outcome  is_goal  location  bodypart  \\\n",
       "0         NaN        6.0          2.0        0       9.0       2.0   \n",
       "11        NaN       13.0          2.0        0      15.0       1.0   \n",
       "13        NaN        4.0          1.0        1       9.0       2.0   \n",
       "14        NaN        2.0          3.0        0      15.0       1.0   \n",
       "17        NaN        2.0          3.0        0      15.0       1.0   \n",
       "\n",
       "    assist_method  situation  fast_break  \n",
       "0               1        1.0           0  \n",
       "11              1        1.0           0  \n",
       "13              1        1.0           0  \n",
       "14              0        1.0           0  \n",
       "17              0        1.0           0  \n",
       "\n",
       "[5 rows x 22 columns]"
      ]
     },
     "execution_count": 23,
     "metadata": {},
     "output_type": "execute_result"
    }
   ],
   "source": [
    "# We need the event_type when is equal 1 since that is a shot attempt.\n",
    "shot_attempts = events_df[events_df[\"event_type\"]== 1]\n",
    "\n",
    "# We check the filter\n",
    "shot_attempts.head() "
   ]
  },
  {
   "cell_type": "code",
   "execution_count": 24,
   "metadata": {
    "colab": {
     "base_uri": "https://localhost:8080/"
    },
    "id": "1Ohd0cP6iZl_",
    "outputId": "6807a2da-93ff-4fab-e580-a0550bc5671e"
   },
   "outputs": [
    {
     "data": {
      "text/plain": [
       "1    229134\n",
       "Name: event_type, dtype: int64"
      ]
     },
     "execution_count": 24,
     "metadata": {},
     "output_type": "execute_result"
    }
   ],
   "source": [
    "### We'll check is the number is the same in both databases\n",
    "shot_attempts[\"event_type\"].value_counts()"
   ]
  },
  {
   "cell_type": "code",
   "execution_count": 25,
   "metadata": {
    "colab": {
     "base_uri": "https://localhost:8080/"
    },
    "id": "D4DuGLf2ir8e",
    "outputId": "f37cc140-9e5a-43bd-ba2c-2e95b9a382c9"
   },
   "outputs": [
    {
     "data": {
      "text/plain": [
       "array(['mladen petric', 'shinji kagawa', 'kevin grosskreutz', ...,\n",
       "       'alhassan wakaso', 'roman zozulia', 'alessandro bastoni'],\n",
       "      dtype=object)"
      ]
     },
     "execution_count": 25,
     "metadata": {},
     "output_type": "execute_result"
    }
   ],
   "source": [
    "shot_attempts[\"player\"].unique()"
   ]
  },
  {
   "cell_type": "code",
   "execution_count": 26,
   "metadata": {
    "colab": {
     "base_uri": "https://localhost:8080/",
     "height": 1000
    },
    "id": "7hLvWXWHrgTQ",
    "outputId": "57b0491b-b016-4c07-9e23-d28c6de32c3b"
   },
   "outputs": [
    {
     "data": {
      "text/html": [
       "<div>\n",
       "<style scoped>\n",
       "    .dataframe tbody tr th:only-of-type {\n",
       "        vertical-align: middle;\n",
       "    }\n",
       "\n",
       "    .dataframe tbody tr th {\n",
       "        vertical-align: top;\n",
       "    }\n",
       "\n",
       "    .dataframe thead th {\n",
       "        text-align: right;\n",
       "    }\n",
       "</style>\n",
       "<table border=\"1\" class=\"dataframe\">\n",
       "  <thead>\n",
       "    <tr style=\"text-align: right;\">\n",
       "      <th></th>\n",
       "      <th>player</th>\n",
       "      <th>is_goal</th>\n",
       "    </tr>\n",
       "  </thead>\n",
       "  <tbody>\n",
       "    <tr>\n",
       "      <th>3518</th>\n",
       "      <td>lionel messi</td>\n",
       "      <td>205</td>\n",
       "    </tr>\n",
       "    <tr>\n",
       "      <th>1215</th>\n",
       "      <td>cristiano ronaldo</td>\n",
       "      <td>198</td>\n",
       "    </tr>\n",
       "    <tr>\n",
       "      <th>6109</th>\n",
       "      <td>zlatan ibrahimovic</td>\n",
       "      <td>153</td>\n",
       "    </tr>\n",
       "    <tr>\n",
       "      <th>5074</th>\n",
       "      <td>robert lewandowski</td>\n",
       "      <td>124</td>\n",
       "    </tr>\n",
       "    <tr>\n",
       "      <th>1629</th>\n",
       "      <td>edinson cavani</td>\n",
       "      <td>121</td>\n",
       "    </tr>\n",
       "    <tr>\n",
       "      <th>2275</th>\n",
       "      <td>gonzalo higuain</td>\n",
       "      <td>118</td>\n",
       "    </tr>\n",
       "    <tr>\n",
       "      <th>4869</th>\n",
       "      <td>pierreemerick aubameyang</td>\n",
       "      <td>100</td>\n",
       "    </tr>\n",
       "    <tr>\n",
       "      <th>3660</th>\n",
       "      <td>luis suarez</td>\n",
       "      <td>96</td>\n",
       "    </tr>\n",
       "    <tr>\n",
       "      <th>1509</th>\n",
       "      <td>diego costa</td>\n",
       "      <td>93</td>\n",
       "    </tr>\n",
       "    <tr>\n",
       "      <th>312</th>\n",
       "      <td>alexandre lacazette</td>\n",
       "      <td>88</td>\n",
       "    </tr>\n",
       "    <tr>\n",
       "      <th>3278</th>\n",
       "      <td>karim benzema</td>\n",
       "      <td>85</td>\n",
       "    </tr>\n",
       "    <tr>\n",
       "      <th>560</th>\n",
       "      <td>antoine griezmann</td>\n",
       "      <td>80</td>\n",
       "    </tr>\n",
       "    <tr>\n",
       "      <th>330</th>\n",
       "      <td>alexis sanchez</td>\n",
       "      <td>80</td>\n",
       "    </tr>\n",
       "    <tr>\n",
       "      <th>1848</th>\n",
       "      <td>falcao</td>\n",
       "      <td>80</td>\n",
       "    </tr>\n",
       "    <tr>\n",
       "      <th>578</th>\n",
       "      <td>antonio di natale</td>\n",
       "      <td>76</td>\n",
       "    </tr>\n",
       "    <tr>\n",
       "      <th>5407</th>\n",
       "      <td>sergio aguero</td>\n",
       "      <td>75</td>\n",
       "    </tr>\n",
       "    <tr>\n",
       "      <th>4111</th>\n",
       "      <td>mauro icardi</td>\n",
       "      <td>72</td>\n",
       "    </tr>\n",
       "    <tr>\n",
       "      <th>4615</th>\n",
       "      <td>olivier giroud</td>\n",
       "      <td>71</td>\n",
       "    </tr>\n",
       "    <tr>\n",
       "      <th>5989</th>\n",
       "      <td>wissam ben yedder</td>\n",
       "      <td>69</td>\n",
       "    </tr>\n",
       "    <tr>\n",
       "      <th>5201</th>\n",
       "      <td>ruben castro</td>\n",
       "      <td>69</td>\n",
       "    </tr>\n",
       "    <tr>\n",
       "      <th>3381</th>\n",
       "      <td>klaasjan huntelaar</td>\n",
       "      <td>68</td>\n",
       "    </tr>\n",
       "    <tr>\n",
       "      <th>5550</th>\n",
       "      <td>stefan kiessling</td>\n",
       "      <td>67</td>\n",
       "    </tr>\n",
       "    <tr>\n",
       "      <th>3884</th>\n",
       "      <td>mario mandzukic</td>\n",
       "      <td>67</td>\n",
       "    </tr>\n",
       "    <tr>\n",
       "      <th>5702</th>\n",
       "      <td>thomas muller</td>\n",
       "      <td>67</td>\n",
       "    </tr>\n",
       "    <tr>\n",
       "      <th>697</th>\n",
       "      <td>bafetimbi gomis</td>\n",
       "      <td>66</td>\n",
       "    </tr>\n",
       "    <tr>\n",
       "      <th>2375</th>\n",
       "      <td>harry kane</td>\n",
       "      <td>65</td>\n",
       "    </tr>\n",
       "    <tr>\n",
       "      <th>3830</th>\n",
       "      <td>marco reus</td>\n",
       "      <td>65</td>\n",
       "    </tr>\n",
       "    <tr>\n",
       "      <th>3325</th>\n",
       "      <td>kevin gameiro</td>\n",
       "      <td>63</td>\n",
       "    </tr>\n",
       "    <tr>\n",
       "      <th>1614</th>\n",
       "      <td>eden hazard</td>\n",
       "      <td>62</td>\n",
       "    </tr>\n",
       "    <tr>\n",
       "      <th>379</th>\n",
       "      <td>alvaro negredo</td>\n",
       "      <td>61</td>\n",
       "    </tr>\n",
       "    <tr>\n",
       "      <th>548</th>\n",
       "      <td>anthony modeste</td>\n",
       "      <td>59</td>\n",
       "    </tr>\n",
       "    <tr>\n",
       "      <th>4465</th>\n",
       "      <td>neymar</td>\n",
       "      <td>58</td>\n",
       "    </tr>\n",
       "    <tr>\n",
       "      <th>298</th>\n",
       "      <td>alexander meier</td>\n",
       "      <td>57</td>\n",
       "    </tr>\n",
       "    <tr>\n",
       "      <th>931</th>\n",
       "      <td>carlos bacca</td>\n",
       "      <td>57</td>\n",
       "    </tr>\n",
       "    <tr>\n",
       "      <th>5116</th>\n",
       "      <td>rodrigo palacio</td>\n",
       "      <td>57</td>\n",
       "    </tr>\n",
       "    <tr>\n",
       "      <th>1920</th>\n",
       "      <td>fernando llorente</td>\n",
       "      <td>56</td>\n",
       "    </tr>\n",
       "    <tr>\n",
       "      <th>2180</th>\n",
       "      <td>german denis</td>\n",
       "      <td>56</td>\n",
       "    </tr>\n",
       "    <tr>\n",
       "      <th>3591</th>\n",
       "      <td>luca toni</td>\n",
       "      <td>56</td>\n",
       "    </tr>\n",
       "    <tr>\n",
       "      <th>5260</th>\n",
       "      <td>salomon kalou</td>\n",
       "      <td>56</td>\n",
       "    </tr>\n",
       "    <tr>\n",
       "      <th>963</th>\n",
       "      <td>carlos vela</td>\n",
       "      <td>55</td>\n",
       "    </tr>\n",
       "    <tr>\n",
       "      <th>5877</th>\n",
       "      <td>vedad ibisevic</td>\n",
       "      <td>54</td>\n",
       "    </tr>\n",
       "    <tr>\n",
       "      <th>1616</th>\n",
       "      <td>eder</td>\n",
       "      <td>54</td>\n",
       "    </tr>\n",
       "    <tr>\n",
       "      <th>1225</th>\n",
       "      <td>cyril thereau</td>\n",
       "      <td>54</td>\n",
       "    </tr>\n",
       "    <tr>\n",
       "      <th>5156</th>\n",
       "      <td>romelu lukaku</td>\n",
       "      <td>53</td>\n",
       "    </tr>\n",
       "    <tr>\n",
       "      <th>619</th>\n",
       "      <td>aritz aduriz</td>\n",
       "      <td>53</td>\n",
       "    </tr>\n",
       "    <tr>\n",
       "      <th>4311</th>\n",
       "      <td>miroslav klose</td>\n",
       "      <td>51</td>\n",
       "    </tr>\n",
       "    <tr>\n",
       "      <th>491</th>\n",
       "      <td>andrepierre gignac</td>\n",
       "      <td>51</td>\n",
       "    </tr>\n",
       "    <tr>\n",
       "      <th>4085</th>\n",
       "      <td>mattia destro</td>\n",
       "      <td>51</td>\n",
       "    </tr>\n",
       "    <tr>\n",
       "      <th>2118</th>\n",
       "      <td>gareth bale</td>\n",
       "      <td>50</td>\n",
       "    </tr>\n",
       "    <tr>\n",
       "      <th>621</th>\n",
       "      <td>arjen robben</td>\n",
       "      <td>50</td>\n",
       "    </tr>\n",
       "  </tbody>\n",
       "</table>\n",
       "</div>"
      ],
      "text/plain": [
       "                        player  is_goal\n",
       "3518              lionel messi      205\n",
       "1215         cristiano ronaldo      198\n",
       "6109        zlatan ibrahimovic      153\n",
       "5074        robert lewandowski      124\n",
       "1629            edinson cavani      121\n",
       "2275           gonzalo higuain      118\n",
       "4869  pierreemerick aubameyang      100\n",
       "3660               luis suarez       96\n",
       "1509               diego costa       93\n",
       "312        alexandre lacazette       88\n",
       "3278             karim benzema       85\n",
       "560          antoine griezmann       80\n",
       "330             alexis sanchez       80\n",
       "1848                    falcao       80\n",
       "578          antonio di natale       76\n",
       "5407             sergio aguero       75\n",
       "4111              mauro icardi       72\n",
       "4615            olivier giroud       71\n",
       "5989         wissam ben yedder       69\n",
       "5201              ruben castro       69\n",
       "3381        klaasjan huntelaar       68\n",
       "5550          stefan kiessling       67\n",
       "3884           mario mandzukic       67\n",
       "5702             thomas muller       67\n",
       "697            bafetimbi gomis       66\n",
       "2375                harry kane       65\n",
       "3830                marco reus       65\n",
       "3325             kevin gameiro       63\n",
       "1614               eden hazard       62\n",
       "379             alvaro negredo       61\n",
       "548            anthony modeste       59\n",
       "4465                    neymar       58\n",
       "298            alexander meier       57\n",
       "931               carlos bacca       57\n",
       "5116           rodrigo palacio       57\n",
       "1920         fernando llorente       56\n",
       "2180              german denis       56\n",
       "3591                 luca toni       56\n",
       "5260             salomon kalou       56\n",
       "963                carlos vela       55\n",
       "5877            vedad ibisevic       54\n",
       "1616                      eder       54\n",
       "1225             cyril thereau       54\n",
       "5156             romelu lukaku       53\n",
       "619               aritz aduriz       53\n",
       "4311            miroslav klose       51\n",
       "491         andrepierre gignac       51\n",
       "4085             mattia destro       51\n",
       "2118               gareth bale       50\n",
       "621               arjen robben       50"
      ]
     },
     "execution_count": 26,
     "metadata": {},
     "output_type": "execute_result"
    }
   ],
   "source": [
    "# Since is goal is an integer (meaning 1 is goal), we can sum the \"is goal\" column to get the top 50 scorers\n",
    "filter_players= events_df.groupby(['player'])['is_goal'].sum().reset_index()\n",
    "sorted_players = filter_players.sort_values('is_goal', ascending=False)\n",
    "sorted_players.head(50)"
   ]
  },
  {
   "cell_type": "code",
   "execution_count": 34,
   "metadata": {
    "colab": {
     "base_uri": "https://localhost:8080/"
    },
    "id": "RHYfoO2cDYkg",
    "outputId": "622ef5f9-00e9-4ba6-bd14-5516b6fb3d67"
   },
   "outputs": [
    {
     "data": {
      "text/plain": [
       "316"
      ]
     },
     "execution_count": 34,
     "metadata": {},
     "output_type": "execute_result"
    }
   ],
   "source": [
    "# Checking one player\n",
    "neymar = (shot_attempts.player == 'neymar')\n",
    "totalshots_neymar = shot_attempts.player[neymar].count()\n",
    "totalshots_neymar\n"
   ]
  },
  {
   "cell_type": "code",
   "execution_count": 35,
   "metadata": {
    "colab": {
     "base_uri": "https://localhost:8080/"
    },
    "id": "M30gImNcTwdl",
    "outputId": "032e7e89-cdfb-488a-8c0d-5a4520814540"
   },
   "outputs": [
    {
     "name": "stdout",
     "output_type": "stream",
     "text": [
      "Neymar scored 56 goals with a total of 316 for an efectivness of 17.72 %\n"
     ]
    }
   ],
   "source": [
    "#check the ratio for the efectivness of Neymar\n",
    "totalgoals_neymar = shot_attempts.player[neymar][shot_attempts.is_goal == 1].count()\n",
    "effectivness_neymar = (totalgoals_neymar/totalshots_neymar) * 100\n",
    "\n",
    "print('Neymar scored', totalgoals_neymar, 'goals with a total of', totalshots_neymar, 'for an efectivness of', effectivness_neymar.round(2), '%' )"
   ]
  },
  {
   "cell_type": "code",
   "execution_count": 36,
   "metadata": {
    "colab": {
     "base_uri": "https://localhost:8080/"
    },
    "id": "oameNrY2cauJ",
    "outputId": "297e9995-3c53-48b6-8091-94104c61a054"
   },
   "outputs": [
    {
     "name": "stdout",
     "output_type": "stream",
     "text": [
      "0\n"
     ]
    }
   ],
   "source": [
    "# According to our dictionary database there are some shot locations that are not recorded (number 19)\n",
    "print(shot_attempts.player[shot_attempts.location == 19].count()) "
   ]
  },
  {
   "cell_type": "code",
   "execution_count": 37,
   "metadata": {
    "colab": {
     "base_uri": "https://localhost:8080/"
    },
    "id": "HGdnK2dGc1HR",
    "outputId": "3e7584cb-4d09-42e1-d2fa-33eae7cb3842"
   },
   "outputs": [
    {
     "name": "stdout",
     "output_type": "stream",
     "text": [
      "1    0.0\n",
      "Name: event_type, dtype: float64\n"
     ]
    }
   ],
   "source": [
    "# Let's see the percentage. \n",
    "print(shot_attempts.event_type[shot_attempts.location == 19].count()/shot_attempts[\"event_type\"].value_counts()* 100) "
   ]
  },
  {
   "cell_type": "code",
   "execution_count": 38,
   "metadata": {
    "id": "zcDkbcg-eQBZ"
   },
   "outputs": [],
   "source": [
    "#Since is less than 1% we are going to drop those values, even though it may affect our results, it will have a minimal effect\n",
    "\n",
    "shot_attempts = shot_attempts[shot_attempts.location != 19]\n"
   ]
  },
  {
   "cell_type": "code",
   "execution_count": 39,
   "metadata": {
    "colab": {
     "base_uri": "https://localhost:8080/"
    },
    "id": "TW_Mxy78nqd8",
    "outputId": "a40c69e9-1cdd-419a-c305-0efb049d9420"
   },
   "outputs": [
    {
     "data": {
      "text/plain": [
       "id_odsp          False\n",
       "id_event         False\n",
       "sort_order       False\n",
       "time             False\n",
       "text             False\n",
       "event_type       False\n",
       "event_type2       True\n",
       "side             False\n",
       "event_team       False\n",
       "opponent         False\n",
       "player           False\n",
       "player2           True\n",
       "player_in         True\n",
       "player_out        True\n",
       "shot_place        True\n",
       "shot_outcome     False\n",
       "is_goal          False\n",
       "location         False\n",
       "bodypart         False\n",
       "assist_method    False\n",
       "situation        False\n",
       "fast_break       False\n",
       "dtype: bool"
      ]
     },
     "execution_count": 39,
     "metadata": {},
     "output_type": "execute_result"
    }
   ],
   "source": [
    "#cHECK NULL VALUIES\n",
    "shot_attempts.isna().any()"
   ]
  },
  {
   "cell_type": "code",
   "execution_count": 40,
   "metadata": {},
   "outputs": [
    {
     "name": "stdout",
     "output_type": "stream",
     "text": [
      "id_odsp               0\n",
      "id_event              0\n",
      "sort_order            0\n",
      "time                  0\n",
      "text                  0\n",
      "event_type            0\n",
      "event_type2       59825\n",
      "side                  0\n",
      "event_team            0\n",
      "opponent              0\n",
      "player                0\n",
      "player2           59886\n",
      "player_in        227684\n",
      "player_out       227684\n",
      "shot_place         1008\n",
      "shot_outcome          0\n",
      "is_goal               0\n",
      "location              0\n",
      "bodypart              0\n",
      "assist_method         0\n",
      "situation             0\n",
      "fast_break            0\n",
      "dtype: int64\n"
     ]
    }
   ],
   "source": [
    "# count of null values in each column. \n",
    "print(shot_attempts.isnull().sum())\n",
    "\n"
   ]
  },
  {
   "cell_type": "code",
   "execution_count": 41,
   "metadata": {},
   "outputs": [],
   "source": [
    "#We can see that the values we are going to use in the machine learning are not null"
   ]
  },
  {
   "cell_type": "code",
   "execution_count": 42,
   "metadata": {},
   "outputs": [
    {
     "name": "stdout",
     "output_type": "stream",
     "text": [
      "Requirement already satisfied: openpyxl in c:\\users\\gotar\\anaconda3\\lib\\site-packages (3.0.9)\n",
      "Requirement already satisfied: et-xmlfile in c:\\users\\gotar\\anaconda3\\lib\\site-packages (from openpyxl) (1.1.0)\n",
      "Note: you may need to restart the kernel to use updated packages.\n"
     ]
    }
   ],
   "source": [
    "\n",
    "pip install openpyxl"
   ]
  },
  {
   "cell_type": "code",
   "execution_count": 43,
   "metadata": {},
   "outputs": [
    {
     "data": {
      "text/plain": [
       "Index(['id_odsp', 'id_event', 'sort_order', 'time', 'text', 'event_type',\n",
       "       'event_type2', 'side', 'event_team', 'opponent', 'player', 'player2',\n",
       "       'player_in', 'player_out', 'shot_place', 'shot_outcome', 'is_goal',\n",
       "       'location', 'bodypart', 'assist_method', 'situation', 'fast_break'],\n",
       "      dtype='object')"
      ]
     },
     "execution_count": 43,
     "metadata": {},
     "output_type": "execute_result"
    }
   ],
   "source": [
    "#Check the columns\n",
    "shot_attempts.columns\n"
   ]
  },
  {
   "cell_type": "code",
   "execution_count": 29,
   "metadata": {},
   "outputs": [],
   "source": [
    "# Now to Finish let's export our database to a new spreadsheet to uae for visualizations\n",
    "shot_attempts.to_excel(r'C:\\Users\\gotar\\Desktop\\Scouting_Player_Report\\Resources\\clean_data.xlsx', index = False, header=True)"
   ]
  },
  {
   "cell_type": "code",
   "execution_count": null,
   "metadata": {},
   "outputs": [],
   "source": []
  }
 ],
 "metadata": {
  "colab": {
   "collapsed_sections": [],
   "name": "playerscouting.ipynb",
   "provenance": []
  },
  "kernelspec": {
   "display_name": "Python 3 (ipykernel)",
   "language": "python",
   "name": "python3"
  },
  "language_info": {
   "codemirror_mode": {
    "name": "ipython",
    "version": 3
   },
   "file_extension": ".py",
   "mimetype": "text/x-python",
   "name": "python",
   "nbconvert_exporter": "python",
   "pygments_lexer": "ipython3",
   "version": "3.9.7"
  }
 },
 "nbformat": 4,
 "nbformat_minor": 1
}
